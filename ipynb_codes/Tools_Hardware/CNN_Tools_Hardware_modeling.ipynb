{
 "cells": [
  {
   "cell_type": "markdown",
   "metadata": {
    "id": "7b392e4e"
   },
   "source": [
    "## **1. CONVOLUTIONAL NEURAL NETWORK (CNN) MODEL**"
   ]
  },
  {
   "cell_type": "code",
   "execution_count": null,
   "metadata": {
    "colab": {
     "base_uri": "https://localhost:8080/"
    },
    "executionInfo": {
     "elapsed": 22924,
     "status": "ok",
     "timestamp": 1625167907223,
     "user": {
      "displayName": "Data Science 4all",
      "photoUrl": "https://lh3.googleusercontent.com/a-/AOh14GgRGpSe5kwQoFULmhFFkynj2R1RCmca4npgTigW=s64",
      "userId": "10344754763016191676"
     },
     "user_tz": 180
    },
    "id": "WEUg1dFFIOCi",
    "outputId": "0e1b7ecd-810a-47c3-cb9f-5fd38fe2c3cb"
   },
   "outputs": [
    {
     "name": "stdout",
     "output_type": "stream",
     "text": [
      "Mounted at /content/gdrive\n"
     ]
    }
   ],
   "source": [
    "from google.colab import drive\n",
    "drive.mount('/content/gdrive', force_remount=True)"
   ]
  },
  {
   "cell_type": "code",
   "execution_count": null,
   "metadata": {
    "id": "0ad85492"
   },
   "outputs": [],
   "source": [
    "import tensorflow as tf\n",
    "from tensorflow import keras\n",
    "from tensorflow.keras.models import Sequential\n",
    "from tensorflow.keras.layers import Dense, Dropout, Activation, Flatten, Conv2D, MaxPooling2D\n",
    "from keras.utils.np_utils import to_categorical\n",
    "from tensorflow.keras.constraints import unit_norm\n",
    "from tensorflow.python.keras import regularizers\n",
    "\n",
    "\n",
    "import numpy as np\n",
    "import matplotlib.pyplot as plt\n",
    "import pandas as pd\n",
    "from sklearn.model_selection import train_test_split\n",
    "\n",
    "import os\n",
    "import cv2\n",
    "import random\n",
    "import time\n",
    "import pickle\n",
    "\n",
    "SEED = 0\n",
    "\n",
    "def set_seeds(seed=SEED):\n",
    "    os.environ['PYTHONHASHSEED'] = str(seed)\n",
    "    random.seed(seed)\n",
    "    tf.random.set_seed(seed)\n",
    "    np.random.seed(seed)\n",
    "  \n",
    "def set_global_determinism(seed=SEED):\n",
    "    set_seeds(seed=seed)\n",
    "\n",
    "    os.environ['TF_DETERMINISTIC_OPS'] = '1'\n",
    "    os.environ['TF_CUDNN_DETERMINISTIC'] = '1'\n",
    "    \n",
    "    tf.config.threading.set_inter_op_parallelism_threads(1)\n",
    "    tf.config.threading.set_intra_op_parallelism_threads(1)\n",
    "\n",
    "# Call the above function with seed value\n",
    "set_global_determinism(seed=SEED)"
   ]
  },
  {
   "cell_type": "code",
   "execution_count": null,
   "metadata": {
    "id": "NuWeLbZ1Ufbp"
   },
   "outputs": [],
   "source": [
    "# load Dataset\n",
    "\n",
    "X = pickle.load(open(\"/content/gdrive/MyDrive/Colab Notebooks/home_and_pet_runs/X_256.pickle\", \"rb\"))\n",
    "y = pickle.load(open(\"/content/gdrive/MyDrive/Colab Notebooks/home_and_pet_runs/y_256.pickle\", \"rb\"))\n",
    "categories = pickle.load(open(\"/content/gdrive/MyDrive/Colab Notebooks/home_and_pet_runs/categories.pickle\", \"rb\"))"
   ]
  },
  {
   "cell_type": "code",
   "execution_count": null,
   "metadata": {
    "colab": {
     "base_uri": "https://localhost:8080/"
    },
    "executionInfo": {
     "elapsed": 3221,
     "status": "ok",
     "timestamp": 1625167929222,
     "user": {
      "displayName": "Data Science 4all",
      "photoUrl": "https://lh3.googleusercontent.com/a-/AOh14GgRGpSe5kwQoFULmhFFkynj2R1RCmca4npgTigW=s64",
      "userId": "10344754763016191676"
     },
     "user_tz": 180
    },
    "id": "9f901f4b",
    "outputId": "f180ca8b-93e6-41a3-877b-d9be8b7f023f"
   },
   "outputs": [
    {
     "name": "stdout",
     "output_type": "stream",
     "text": [
      "(17842, 256, 256, 1)\n",
      "(17842, 51)\n",
      "(7647, 256, 256, 1)\n",
      "(7647, 51)\n"
     ]
    }
   ],
   "source": [
    "X_train, X_test, y_train, y_test = train_test_split(X, y, test_size=0.3, random_state=101)\n",
    "num_classes = len(categories)\n",
    "\n",
    "X_train = X_train.astype('float32')\n",
    "X_test = X_test.astype('float32')\n",
    "X_train /= 255.0\n",
    "X_test /= 255.0\n",
    "y_train = to_categorical(y_train, num_classes)\n",
    "y_test = to_categorical(y_test, num_classes)\n",
    "\n",
    "print(X_train.shape)\n",
    "print(y_train.shape)\n",
    "print(X_test.shape)\n",
    "print(y_test.shape)"
   ]
  },
  {
   "cell_type": "code",
   "execution_count": null,
   "metadata": {
    "id": "22e5ec73"
   },
   "outputs": [],
   "source": [
    "def print_graphs(model_history):\n",
    "     # summarize history for loss\n",
    "    plt.plot(model_history.history['loss'], color='orange')\n",
    "    plt.plot(model_history.history['val_loss'], color='blue')\n",
    "    plt.title('model loss')\n",
    "    plt.ylabel('loss')\n",
    "    plt.xlabel('epoch')\n",
    "    plt.legend(['Training loss', 'Validation loss'], loc='upper left')\n",
    "    plt.show()\n",
    "    \n",
    "    # summarize history for accuracy\n",
    "    plt.plot(model_history.history['accuracy'], color='orange')\n",
    "    plt.plot(model_history.history['val_accuracy'], color='blue')\n",
    "    plt.title('model accuracy')\n",
    "    plt.ylabel('accuracy')\n",
    "    plt.xlabel('epoch')\n",
    "    plt.legend(['Training accuracy', 'Validation accuracy'], loc='upper left')\n",
    "    plt.show()"
   ]
  },
  {
   "cell_type": "markdown",
   "metadata": {
    "id": "lpuZRgH664A9"
   },
   "source": [
    "## **1.2. MODEL 1**"
   ]
  },
  {
   "cell_type": "code",
   "execution_count": null,
   "metadata": {
    "colab": {
     "base_uri": "https://localhost:8080/"
    },
    "executionInfo": {
     "elapsed": 480772,
     "status": "ok",
     "timestamp": 1625151641931,
     "user": {
      "displayName": "Data Science 4all",
      "photoUrl": "https://lh3.googleusercontent.com/a-/AOh14GgRGpSe5kwQoFULmhFFkynj2R1RCmca4npgTigW=s64",
      "userId": "10344754763016191676"
     },
     "user_tz": 180
    },
    "id": "f5f78682",
    "outputId": "ccb1dd07-ecbe-439f-c50b-3222832b122c"
   },
   "outputs": [
    {
     "name": "stdout",
     "output_type": "stream",
     "text": [
      "Model: \"sequential\"\n",
      "_________________________________________________________________\n",
      "Layer (type)                 Output Shape              Param #   \n",
      "=================================================================\n",
      "conv2d (Conv2D)              (None, 256, 256, 32)      832       \n",
      "_________________________________________________________________\n",
      "max_pooling2d (MaxPooling2D) (None, 128, 128, 32)      0         \n",
      "_________________________________________________________________\n",
      "conv2d_1 (Conv2D)            (None, 128, 128, 64)      51264     \n",
      "_________________________________________________________________\n",
      "max_pooling2d_1 (MaxPooling2 (None, 64, 64, 64)        0         \n",
      "_________________________________________________________________\n",
      "flatten (Flatten)            (None, 262144)            0         \n",
      "_________________________________________________________________\n",
      "dense (Dense)                (None, 1024)              268436480 \n",
      "_________________________________________________________________\n",
      "dense_1 (Dense)              (None, 51)                52275     \n",
      "=================================================================\n",
      "Total params: 268,540,851\n",
      "Trainable params: 268,540,851\n",
      "Non-trainable params: 0\n",
      "_________________________________________________________________\n",
      "None\n",
      "Epoch 1/10\n",
      "558/558 [==============================] - 52s 86ms/step - loss: 1.7483 - accuracy: 0.6555 - val_loss: 0.6562 - val_accuracy: 0.8545\n",
      "Epoch 2/10\n",
      "558/558 [==============================] - 47s 85ms/step - loss: 0.2332 - accuracy: 0.9452 - val_loss: 0.6226 - val_accuracy: 0.8837\n",
      "Epoch 3/10\n",
      "558/558 [==============================] - 47s 85ms/step - loss: 0.0550 - accuracy: 0.9877 - val_loss: 0.8744 - val_accuracy: 0.8705\n",
      "Epoch 4/10\n",
      "558/558 [==============================] - 47s 85ms/step - loss: 0.0345 - accuracy: 0.9925 - val_loss: 0.9998 - val_accuracy: 0.8652\n",
      "Epoch 5/10\n",
      "558/558 [==============================] - 47s 85ms/step - loss: 0.0659 - accuracy: 0.9856 - val_loss: 0.8411 - val_accuracy: 0.8754\n",
      "Epoch 6/10\n",
      "558/558 [==============================] - 47s 85ms/step - loss: 0.0356 - accuracy: 0.9919 - val_loss: 1.0824 - val_accuracy: 0.8783\n",
      "Epoch 7/10\n",
      "558/558 [==============================] - 48s 85ms/step - loss: 0.0470 - accuracy: 0.9894 - val_loss: 1.3767 - val_accuracy: 0.8726\n",
      "Epoch 8/10\n",
      "558/558 [==============================] - 47s 85ms/step - loss: 0.0382 - accuracy: 0.9925 - val_loss: 1.2977 - val_accuracy: 0.8805\n",
      "Epoch 9/10\n",
      "558/558 [==============================] - 47s 84ms/step - loss: 0.0292 - accuracy: 0.9942 - val_loss: 1.3923 - val_accuracy: 0.8789\n",
      "Epoch 10/10\n",
      "558/558 [==============================] - 47s 85ms/step - loss: 0.0123 - accuracy: 0.9972 - val_loss: 1.3061 - val_accuracy: 0.8820\n",
      "Time elapsed: 477.99820160865784s\n"
     ]
    }
   ],
   "source": [
    "cnn = Sequential()\n",
    "cnn.add(Conv2D(32, kernel_size=(5,5), input_shape=X.shape[1:], padding='same', activation='relu'))\n",
    "cnn.add(MaxPooling2D())\n",
    "\n",
    "cnn.add(Conv2D(64, kernel_size=(5,5), padding='same', activation='relu'))\n",
    "cnn.add(MaxPooling2D())\n",
    "\n",
    "cnn.add(Flatten())\n",
    "cnn.add(Dense(1024, activation='relu'))\n",
    "\n",
    "cnn.add(Dense(num_classes, activation='softmax'))\n",
    "cnn.compile(optimizer='adam', loss='categorical_crossentropy',metrics=['accuracy'])\n",
    "\n",
    "print(cnn.summary())\n",
    "\n",
    "start = time.time()\n",
    "history_cnn = cnn.fit(X_train, y_train, epochs=10, verbose=1, validation_data=(X_test, y_test))\n",
    "end = time.time()\n",
    "print('Time elapsed: {}s'.format(end-start))"
   ]
  },
  {
   "cell_type": "code",
   "execution_count": null,
   "metadata": {
    "colab": {
     "base_uri": "https://localhost:8080/",
     "height": 573
    },
    "executionInfo": {
     "elapsed": 507,
     "status": "ok",
     "timestamp": 1625151642421,
     "user": {
      "displayName": "Data Science 4all",
      "photoUrl": "https://lh3.googleusercontent.com/a-/AOh14GgRGpSe5kwQoFULmhFFkynj2R1RCmca4npgTigW=s64",
      "userId": "10344754763016191676"
     },
     "user_tz": 180
    },
    "id": "1e40b31a",
    "outputId": "1a3190a5-80f0-41b2-97eb-dcea437109f5"
   },
   "outputs": [
    {
     "data": {
      "image/png": "[encoded data removed]",
      "text/plain": [
       "<Figure size 432x288 with 1 Axes>"
      ]
     },
     "metadata": {
      "needs_background": "light",
      "tags": []
     },
     "output_type": "display_data"
    },
    {
     "data": {
      "image/png": "[encoded data removed]",
      "text/plain": [
       "<Figure size 432x288 with 1 Axes>"
      ]
     },
     "metadata": {
      "needs_background": "light",
      "tags": []
     },
     "output_type": "display_data"
    }
   ],
   "source": [
    "print_graphs(history_cnn)"
   ]
  },
  {
   "cell_type": "markdown",
   "metadata": {
    "id": "oz1RQRQj7Fs1"
   },
   "source": [
    "## **1.3. MODEL 2**"
   ]
  },
  {
   "cell_type": "code",
   "execution_count": null,
   "metadata": {
    "colab": {
     "base_uri": "https://localhost:8080/"
    },
    "executionInfo": {
     "elapsed": 512518,
     "status": "ok",
     "timestamp": 1625168441726,
     "user": {
      "displayName": "Data Science 4all",
      "photoUrl": "https://lh3.googleusercontent.com/a-/AOh14GgRGpSe5kwQoFULmhFFkynj2R1RCmca4npgTigW=s64",
      "userId": "10344754763016191676"
     },
     "user_tz": 180
    },
    "id": "Enl69KfEcVEB",
    "outputId": "2452f7d6-fec9-4e84-fd86-b9b27e09f309"
   },
   "outputs": [
    {
     "name": "stdout",
     "output_type": "stream",
     "text": [
      "Model: \"sequential\"\n",
      "_________________________________________________________________\n",
      "Layer (type)                 Output Shape              Param #   \n",
      "=================================================================\n",
      "conv2d (Conv2D)              (None, 256, 256, 32)      832       \n",
      "_________________________________________________________________\n",
      "max_pooling2d (MaxPooling2D) (None, 128, 128, 32)      0         \n",
      "_________________________________________________________________\n",
      "dropout (Dropout)            (None, 128, 128, 32)      0         \n",
      "_________________________________________________________________\n",
      "conv2d_1 (Conv2D)            (None, 128, 128, 64)      51264     \n",
      "_________________________________________________________________\n",
      "max_pooling2d_1 (MaxPooling2 (None, 64, 64, 64)        0         \n",
      "_________________________________________________________________\n",
      "dropout_1 (Dropout)          (None, 64, 64, 64)        0         \n",
      "_________________________________________________________________\n",
      "flatten (Flatten)            (None, 262144)            0         \n",
      "_________________________________________________________________\n",
      "dense (Dense)                (None, 1024)              268436480 \n",
      "_________________________________________________________________\n",
      "dense_1 (Dense)              (None, 51)                52275     \n",
      "=================================================================\n",
      "Total params: 268,540,851\n",
      "Trainable params: 268,540,851\n",
      "Non-trainable params: 0\n",
      "_________________________________________________________________\n",
      "None\n",
      "Epoch 1/10\n",
      "558/558 [==============================] - 66s 89ms/step - loss: 2.8493 - accuracy: 0.4232 - val_loss: 1.0246 - val_accuracy: 0.7743\n",
      "Epoch 2/10\n",
      "558/558 [==============================] - 49s 89ms/step - loss: 0.7044 - accuracy: 0.8378 - val_loss: 0.7136 - val_accuracy: 0.8559\n",
      "Epoch 3/10\n",
      "558/558 [==============================] - 49s 88ms/step - loss: 0.2975 - accuracy: 0.9241 - val_loss: 0.8054 - val_accuracy: 0.8623\n",
      "Epoch 4/10\n",
      "558/558 [==============================] - 49s 88ms/step - loss: 0.1596 - accuracy: 0.9566 - val_loss: 0.8563 - val_accuracy: 0.8741\n",
      "Epoch 5/10\n",
      "558/558 [==============================] - 49s 88ms/step - loss: 0.1218 - accuracy: 0.9677 - val_loss: 1.0298 - val_accuracy: 0.8695\n",
      "Epoch 6/10\n",
      "558/558 [==============================] - 49s 88ms/step - loss: 0.0907 - accuracy: 0.9769 - val_loss: 1.0141 - val_accuracy: 0.8704\n",
      "Epoch 7/10\n",
      "558/558 [==============================] - 49s 88ms/step - loss: 0.0647 - accuracy: 0.9848 - val_loss: 1.1751 - val_accuracy: 0.8735\n",
      "Epoch 8/10\n",
      "558/558 [==============================] - 49s 88ms/step - loss: 0.0783 - accuracy: 0.9798 - val_loss: 1.1154 - val_accuracy: 0.8737\n",
      "Epoch 9/10\n",
      "558/558 [==============================] - 49s 88ms/step - loss: 0.0597 - accuracy: 0.9864 - val_loss: 1.1285 - val_accuracy: 0.8769\n",
      "Epoch 10/10\n",
      "558/558 [==============================] - 49s 88ms/step - loss: 0.0611 - accuracy: 0.9846 - val_loss: 1.1585 - val_accuracy: 0.8656\n",
      "Time elapsed: 508.58634877204895s\n"
     ]
    }
   ],
   "source": [
    "cnn = Sequential()\n",
    "cnn.add(Conv2D(32, kernel_size=(5,5), input_shape=X.shape[1:], padding='same', activation='relu'))\n",
    "cnn.add(MaxPooling2D())\n",
    "cnn.add(Dropout(0.4))\n",
    "\n",
    "cnn.add(Conv2D(64, kernel_size=(5,5), padding='same', activation='relu'))\n",
    "cnn.add(MaxPooling2D())\n",
    "cnn.add(Dropout(0.4))\n",
    "\n",
    "cnn.add(Flatten())\n",
    "cnn.add(Dense(1024, activation='relu'))\n",
    "\n",
    "cnn.add(Dense(num_classes, activation='softmax'))\n",
    "cnn.compile(optimizer='adam', loss='categorical_crossentropy',metrics=['accuracy'])\n",
    "\n",
    "print(cnn.summary())\n",
    "\n",
    "import time\n",
    "start = time.time()\n",
    "history_cnn = cnn.fit(X_train, y_train, epochs=10, verbose=1, validation_data=(X_test, y_test))\n",
    "end = time.time()\n",
    "print('Time elapsed: {}s'.format(end-start))"
   ]
  },
  {
   "cell_type": "code",
   "execution_count": null,
   "metadata": {
    "colab": {
     "base_uri": "https://localhost:8080/",
     "height": 573
    },
    "executionInfo": {
     "elapsed": 603,
     "status": "ok",
     "timestamp": 1625168442305,
     "user": {
      "displayName": "Data Science 4all",
      "photoUrl": "https://lh3.googleusercontent.com/a-/AOh14GgRGpSe5kwQoFULmhFFkynj2R1RCmca4npgTigW=s64",
      "userId": "10344754763016191676"
     },
     "user_tz": 180
    },
    "id": "YAU10g7xbxJJ",
    "outputId": "b871e093-5d90-40f4-9ba7-1d589152930e"
   },
   "outputs": [
    {
     "data": {
      "image/png": "[encoded data removed]",
      "text/plain": [
       "<Figure size 432x288 with 1 Axes>"
      ]
     },
     "metadata": {
      "needs_background": "light",
      "tags": []
     },
     "output_type": "display_data"
    },
    {
     "data": {
      "image/png": "[encoded data removed]",
      "text/plain": [
       "<Figure size 432x288 with 1 Axes>"
      ]
     },
     "metadata": {
      "needs_background": "light",
      "tags": []
     },
     "output_type": "display_data"
    }
   ],
   "source": [
    "print_graphs(history_cnn)"
   ]
  },
  {
   "cell_type": "markdown",
   "metadata": {
    "id": "q6c7VMXC7Odd"
   },
   "source": [
    "## **1.4. MODEL 3**"
   ]
  },
  {
   "cell_type": "code",
   "execution_count": null,
   "metadata": {
    "colab": {
     "base_uri": "https://localhost:8080/"
    },
    "executionInfo": {
     "elapsed": 502929,
     "status": "ok",
     "timestamp": 1625169932740,
     "user": {
      "displayName": "Data Science 4all",
      "photoUrl": "https://lh3.googleusercontent.com/a-/AOh14GgRGpSe5kwQoFULmhFFkynj2R1RCmca4npgTigW=s64",
      "userId": "10344754763016191676"
     },
     "user_tz": 180
    },
    "id": "lunJlLrQcifk",
    "outputId": "625ac76b-e792-435c-ba41-142c0ea28ee6"
   },
   "outputs": [
    {
     "name": "stdout",
     "output_type": "stream",
     "text": [
      "Model: \"sequential_3\"\n",
      "_________________________________________________________________\n",
      "Layer (type)                 Output Shape              Param #   \n",
      "=================================================================\n",
      "conv2d_6 (Conv2D)            (None, 256, 256, 32)      832       \n",
      "_________________________________________________________________\n",
      "max_pooling2d_6 (MaxPooling2 (None, 128, 128, 32)      0         \n",
      "_________________________________________________________________\n",
      "dropout_6 (Dropout)          (None, 128, 128, 32)      0         \n",
      "_________________________________________________________________\n",
      "conv2d_7 (Conv2D)            (None, 128, 128, 64)      51264     \n",
      "_________________________________________________________________\n",
      "max_pooling2d_7 (MaxPooling2 (None, 64, 64, 64)        0         \n",
      "_________________________________________________________________\n",
      "dropout_7 (Dropout)          (None, 64, 64, 64)        0         \n",
      "_________________________________________________________________\n",
      "flatten_3 (Flatten)          (None, 262144)            0         \n",
      "_________________________________________________________________\n",
      "dense_6 (Dense)              (None, 1024)              268436480 \n",
      "_________________________________________________________________\n",
      "dense_7 (Dense)              (None, 51)                52275     \n",
      "=================================================================\n",
      "Total params: 268,540,851\n",
      "Trainable params: 268,540,851\n",
      "Non-trainable params: 0\n",
      "_________________________________________________________________\n",
      "None\n",
      "Epoch 1/10\n",
      "558/558 [==============================] - 50s 88ms/step - loss: 4.5082 - accuracy: 0.3836 - val_loss: 1.2721 - val_accuracy: 0.7602\n",
      "Epoch 2/10\n",
      "558/558 [==============================] - 49s 88ms/step - loss: 0.8885 - accuracy: 0.8376 - val_loss: 0.8582 - val_accuracy: 0.8528\n",
      "Epoch 3/10\n",
      "558/558 [==============================] - 49s 88ms/step - loss: 0.4447 - accuracy: 0.9329 - val_loss: 0.8825 - val_accuracy: 0.8705\n",
      "Epoch 4/10\n",
      "558/558 [==============================] - 49s 88ms/step - loss: 0.2486 - accuracy: 0.9732 - val_loss: 0.9935 - val_accuracy: 0.8725\n",
      "Epoch 5/10\n",
      "558/558 [==============================] - 49s 88ms/step - loss: 0.2005 - accuracy: 0.9806 - val_loss: 1.0110 - val_accuracy: 0.8728\n",
      "Epoch 6/10\n",
      "558/558 [==============================] - 49s 88ms/step - loss: 0.1762 - accuracy: 0.9828 - val_loss: 1.0144 - val_accuracy: 0.8724\n",
      "Epoch 7/10\n",
      "558/558 [==============================] - 49s 88ms/step - loss: 0.1313 - accuracy: 0.9885 - val_loss: 1.0883 - val_accuracy: 0.8690\n",
      "Epoch 8/10\n",
      "558/558 [==============================] - 49s 88ms/step - loss: 0.1405 - accuracy: 0.9829 - val_loss: 1.0334 - val_accuracy: 0.8803\n",
      "Epoch 9/10\n",
      "558/558 [==============================] - 49s 88ms/step - loss: 0.0951 - accuracy: 0.9901 - val_loss: 1.1572 - val_accuracy: 0.8767\n",
      "Epoch 10/10\n",
      "558/558 [==============================] - 49s 88ms/step - loss: 0.0938 - accuracy: 0.9885 - val_loss: 1.0890 - val_accuracy: 0.8779\n",
      "Time elapsed: 502.5302093029022s\n"
     ]
    }
   ],
   "source": [
    "cnn = Sequential()\n",
    "cnn.add(Conv2D(32, kernel_size=(5,5), input_shape=X.shape[1:], padding='same', kernel_initializer='he_normal', activation='relu'))\n",
    "cnn.add(MaxPooling2D())\n",
    "cnn.add(Dropout(0.4))\n",
    "\n",
    "cnn.add(Conv2D(64, kernel_size=(5,5), padding='same', activation='relu', kernel_regularizer=regularizers.l2(l=0.01)))\n",
    "cnn.add(MaxPooling2D())\n",
    "cnn.add(Dropout(0.4))\n",
    "\n",
    "cnn.add(Flatten())\n",
    "cnn.add(Dense(1024, activation='relu'))\n",
    "\n",
    "cnn.add(Dense(num_classes, activation='softmax'))\n",
    "cnn.compile(optimizer='adam', loss='categorical_crossentropy',metrics=['accuracy'])\n",
    "\n",
    "print(cnn.summary())\n",
    "\n",
    "start = time.time()\n",
    "history_cnn = cnn.fit(X_train, y_train, epochs=10, verbose=1, validation_data=(X_test, y_test))\n",
    "end = time.time()\n",
    "print('Time elapsed: {}s'.format(end-start))"
   ]
  },
  {
   "cell_type": "code",
   "execution_count": null,
   "metadata": {
    "colab": {
     "base_uri": "https://localhost:8080/",
     "height": 573
    },
    "executionInfo": {
     "elapsed": 4348,
     "status": "ok",
     "timestamp": 1625169937069,
     "user": {
      "displayName": "Data Science 4all",
      "photoUrl": "https://lh3.googleusercontent.com/a-/AOh14GgRGpSe5kwQoFULmhFFkynj2R1RCmca4npgTigW=s64",
      "userId": "10344754763016191676"
     },
     "user_tz": 180
    },
    "id": "TTGjYXFpc2-h",
    "outputId": "f1115689-3f49-46bb-d501-dfc5d8f1c305"
   },
   "outputs": [
    {
     "data": {
      "image/png": "[encoded data removed]",
      "text/plain": [
       "<Figure size 432x288 with 1 Axes>"
      ]
     },
     "metadata": {
      "needs_background": "light",
      "tags": []
     },
     "output_type": "display_data"
    },
    {
     "data": {
      "image/png": "[encoded data removed]",
      "text/plain": [
       "<Figure size 432x288 with 1 Axes>"
      ]
     },
     "metadata": {
      "needs_background": "light",
      "tags": []
     },
     "output_type": "display_data"
    }
   ],
   "source": [
    "print_graphs(history_cnn)"
   ]
  },
  {
   "cell_type": "markdown",
   "metadata": {
    "id": "7hb6Suc67SSA"
   },
   "source": [
    "## **1.5. MODEL 4**"
   ]
  },
  {
   "cell_type": "code",
   "execution_count": null,
   "metadata": {
    "colab": {
     "base_uri": "https://localhost:8080/"
    },
    "executionInfo": {
     "elapsed": 490045,
     "status": "ok",
     "timestamp": 1625169179182,
     "user": {
      "displayName": "Data Science 4all",
      "photoUrl": "https://lh3.googleusercontent.com/a-/AOh14GgRGpSe5kwQoFULmhFFkynj2R1RCmca4npgTigW=s64",
      "userId": "10344754763016191676"
     },
     "user_tz": 180
    },
    "id": "maGLhwo3dIRh",
    "outputId": "8451a2f7-a9bf-4e3d-d34a-2382576e40e8"
   },
   "outputs": [
    {
     "name": "stdout",
     "output_type": "stream",
     "text": [
      "Model: \"sequential_2\"\n",
      "_________________________________________________________________\n",
      "Layer (type)                 Output Shape              Param #   \n",
      "=================================================================\n",
      "conv2d_4 (Conv2D)            (None, 256, 256, 32)      832       \n",
      "_________________________________________________________________\n",
      "max_pooling2d_4 (MaxPooling2 (None, 128, 128, 32)      0         \n",
      "_________________________________________________________________\n",
      "dropout_4 (Dropout)          (None, 128, 128, 32)      0         \n",
      "_________________________________________________________________\n",
      "conv2d_5 (Conv2D)            (None, 128, 128, 64)      51264     \n",
      "_________________________________________________________________\n",
      "max_pooling2d_5 (MaxPooling2 (None, 64, 64, 64)        0         \n",
      "_________________________________________________________________\n",
      "dropout_5 (Dropout)          (None, 64, 64, 64)        0         \n",
      "_________________________________________________________________\n",
      "flatten_2 (Flatten)          (None, 262144)            0         \n",
      "_________________________________________________________________\n",
      "dense_4 (Dense)              (None, 1024)              268436480 \n",
      "_________________________________________________________________\n",
      "dense_5 (Dense)              (None, 51)                52275     \n",
      "=================================================================\n",
      "Total params: 268,540,851\n",
      "Trainable params: 268,540,851\n",
      "Non-trainable params: 0\n",
      "_________________________________________________________________\n",
      "None\n",
      "Epoch 1/10\n",
      "558/558 [==============================] - 50s 88ms/step - loss: 6.6133 - accuracy: 0.3220 - val_loss: 1.4448 - val_accuracy: 0.7459\n",
      "Epoch 2/10\n",
      "558/558 [==============================] - 49s 88ms/step - loss: 1.0645 - accuracy: 0.8188 - val_loss: 0.9369 - val_accuracy: 0.8463\n",
      "Epoch 3/10\n",
      "558/558 [==============================] - 49s 88ms/step - loss: 0.5179 - accuracy: 0.9215 - val_loss: 1.0676 - val_accuracy: 0.8580\n",
      "Epoch 4/10\n",
      "558/558 [==============================] - 49s 88ms/step - loss: 0.3422 - accuracy: 0.9580 - val_loss: 1.0917 - val_accuracy: 0.8576\n",
      "Epoch 5/10\n",
      "558/558 [==============================] - 49s 88ms/step - loss: 0.2834 - accuracy: 0.9689 - val_loss: 1.1968 - val_accuracy: 0.8635\n",
      "Epoch 6/10\n",
      "558/558 [==============================] - 49s 88ms/step - loss: 0.2430 - accuracy: 0.9723 - val_loss: 1.2280 - val_accuracy: 0.8674\n",
      "Epoch 7/10\n",
      "558/558 [==============================] - 49s 88ms/step - loss: 0.2148 - accuracy: 0.9762 - val_loss: 1.1895 - val_accuracy: 0.8704\n",
      "Epoch 8/10\n",
      "558/558 [==============================] - 49s 88ms/step - loss: 0.1876 - accuracy: 0.9771 - val_loss: 1.2246 - val_accuracy: 0.8688\n",
      "Epoch 9/10\n",
      "558/558 [==============================] - 49s 88ms/step - loss: 0.1434 - accuracy: 0.9848 - val_loss: 1.2284 - val_accuracy: 0.8703\n",
      "Epoch 10/10\n",
      "558/558 [==============================] - 49s 87ms/step - loss: 0.1467 - accuracy: 0.9816 - val_loss: 1.2886 - val_accuracy: 0.8644\n",
      "Time elapsed: 489.875883102417s\n"
     ]
    }
   ],
   "source": [
    "cnn = Sequential()\n",
    "cnn.add(Conv2D(32, kernel_size=(5,5), input_shape=X.shape[1:], padding='same', kernel_initializer='he_normal', activation='relu', kernel_constraint=unit_norm()))\n",
    "cnn.add(MaxPooling2D())\n",
    "cnn.add(Dropout(0.4))\n",
    "\n",
    "cnn.add(Conv2D(64, kernel_size=(5,5), padding='same', activation='relu', kernel_regularizer=regularizers.l2(l=0.01)))\n",
    "cnn.add(MaxPooling2D())\n",
    "cnn.add(Dropout(0.4))\n",
    "\n",
    "cnn.add(Flatten())\n",
    "cnn.add(Dense(1024, activation='relu'))\n",
    "\n",
    "cnn.add(Dense(num_classes, activation='softmax'))\n",
    "cnn.compile(optimizer='adam', loss='categorical_crossentropy',metrics=['accuracy'])\n",
    "\n",
    "print(cnn.summary())\n",
    "\n",
    "\n",
    "start = time.time()\n",
    "history_cnn = cnn.fit(X_train, y_train, epochs=10, verbose=1, validation_data=(X_test, y_test))\n",
    "end = time.time()\n",
    "print('Time elapsed: {}s'.format(end-start))"
   ]
  },
  {
   "cell_type": "code",
   "execution_count": null,
   "metadata": {
    "colab": {
     "base_uri": "https://localhost:8080/",
     "height": 573
    },
    "executionInfo": {
     "elapsed": 1042,
     "status": "ok",
     "timestamp": 1625169180186,
     "user": {
      "displayName": "Data Science 4all",
      "photoUrl": "https://lh3.googleusercontent.com/a-/AOh14GgRGpSe5kwQoFULmhFFkynj2R1RCmca4npgTigW=s64",
      "userId": "10344754763016191676"
     },
     "user_tz": 180
    },
    "id": "i-HsrajdfG8z",
    "outputId": "46509e22-cd2d-4538-86c6-6b4b4c0c09c0"
   },
   "outputs": [
    {
     "data": {
      "image/png": "[encoded data removed]",
      "text/plain": [
       "<Figure size 432x288 with 1 Axes>"
      ]
     },
     "metadata": {
      "needs_background": "light",
      "tags": []
     },
     "output_type": "display_data"
    },
    {
     "data": {
      "image/png": "[encoded data removed]",
      "text/plain": [
       "<Figure size 432x288 with 1 Axes>"
      ]
     },
     "metadata": {
      "needs_background": "light",
      "tags": []
     },
     "output_type": "display_data"
    }
   ],
   "source": [
    "print_graphs(history_cnn)"
   ]
  },
  {
   "cell_type": "markdown",
   "metadata": {
    "id": "8qlCr5Sh7V8-"
   },
   "source": [
    "## **1.6. MODEL 5**"
   ]
  },
  {
   "cell_type": "code",
   "execution_count": null,
   "metadata": {
    "colab": {
     "base_uri": "https://localhost:8080/"
    },
    "executionInfo": {
     "elapsed": 564123,
     "status": "ok",
     "timestamp": 1625148378874,
     "user": {
      "displayName": "Data Science 4all",
      "photoUrl": "https://lh3.googleusercontent.com/a-/AOh14GgRGpSe5kwQoFULmhFFkynj2R1RCmca4npgTigW=s64",
      "userId": "10344754763016191676"
     },
     "user_tz": 180
    },
    "id": "fr-sBjtF1jWZ",
    "outputId": "b5d23168-b073-4895-c24c-3f2c4b0bcd04"
   },
   "outputs": [
    {
     "name": "stdout",
     "output_type": "stream",
     "text": [
      "Model: \"sequential_1\"\n",
      "_________________________________________________________________\n",
      "Layer (type)                 Output Shape              Param #   \n",
      "=================================================================\n",
      "conv2d_2 (Conv2D)            (None, 256, 256, 32)      832       \n",
      "_________________________________________________________________\n",
      "max_pooling2d_2 (MaxPooling2 (None, 128, 128, 32)      0         \n",
      "_________________________________________________________________\n",
      "dropout (Dropout)            (None, 128, 128, 32)      0         \n",
      "_________________________________________________________________\n",
      "conv2d_3 (Conv2D)            (None, 128, 128, 64)      51264     \n",
      "_________________________________________________________________\n",
      "max_pooling2d_3 (MaxPooling2 (None, 64, 64, 64)        0         \n",
      "_________________________________________________________________\n",
      "dropout_1 (Dropout)          (None, 64, 64, 64)        0         \n",
      "_________________________________________________________________\n",
      "flatten_1 (Flatten)          (None, 262144)            0         \n",
      "_________________________________________________________________\n",
      "dense_2 (Dense)              (None, 1024)              268436480 \n",
      "_________________________________________________________________\n",
      "dense_3 (Dense)              (None, 51)                52275     \n",
      "=================================================================\n",
      "Total params: 268,540,851\n",
      "Trainable params: 268,540,851\n",
      "Non-trainable params: 0\n",
      "_________________________________________________________________\n",
      "None\n",
      "Epoch 1/10\n",
      "558/558 [==============================] - 51s 91ms/step - loss: 5.1843 - accuracy: 0.3517 - val_loss: 1.3601 - val_accuracy: 0.7657\n",
      "Epoch 2/10\n",
      "558/558 [==============================] - 50s 90ms/step - loss: 0.8599 - accuracy: 0.8579 - val_loss: 0.9415 - val_accuracy: 0.8528\n",
      "Epoch 3/10\n",
      "558/558 [==============================] - 50s 90ms/step - loss: 0.3628 - accuracy: 0.9545 - val_loss: 1.0632 - val_accuracy: 0.8652\n",
      "Epoch 4/10\n",
      "558/558 [==============================] - 50s 90ms/step - loss: 0.2709 - accuracy: 0.9704 - val_loss: 1.1770 - val_accuracy: 0.8648\n",
      "Epoch 5/10\n",
      "558/558 [==============================] - 50s 90ms/step - loss: 0.2185 - accuracy: 0.9788 - val_loss: 1.2052 - val_accuracy: 0.8555\n",
      "Epoch 6/10\n",
      "558/558 [==============================] - 55s 98ms/step - loss: 0.2152 - accuracy: 0.9744 - val_loss: 1.3278 - val_accuracy: 0.8640\n",
      "Epoch 7/10\n",
      "558/558 [==============================] - 50s 90ms/step - loss: 0.1705 - accuracy: 0.9827 - val_loss: 1.2347 - val_accuracy: 0.8695\n",
      "Epoch 8/10\n",
      "558/558 [==============================] - 50s 90ms/step - loss: 0.1310 - accuracy: 0.9856 - val_loss: 1.2565 - val_accuracy: 0.8692\n",
      "Epoch 9/10\n",
      "558/558 [==============================] - 50s 90ms/step - loss: 0.1618 - accuracy: 0.9806 - val_loss: 1.3903 - val_accuracy: 0.8701\n",
      "Epoch 10/10\n",
      "558/558 [==============================] - 50s 89ms/step - loss: 0.3142 - accuracy: 0.9674 - val_loss: 1.5505 - val_accuracy: 0.8711\n",
      "Time elapsed: 562.572009563446s\n"
     ]
    }
   ],
   "source": [
    "cnn = Sequential()\n",
    "cnn.add(Conv2D(32, kernel_size=(5,5), input_shape=X.shape[1:], padding='same', kernel_initializer='he_normal', activation='relu', kernel_constraint=unit_norm()))\n",
    "cnn.add(MaxPooling2D())\n",
    "cnn.add(Dropout(0.4))\n",
    "\n",
    "cnn.add(Conv2D(64, kernel_size=(5,5), padding='same', activation='relu', kernel_regularizer=regularizers.l2(l=0.01)))\n",
    "cnn.add(MaxPooling2D())\n",
    "cnn.add(Dropout(0.4))\n",
    "\n",
    "cnn.add(Flatten())\n",
    "cnn.add(Dense(1024, activation='relu'))\n",
    "\n",
    "cnn.add(Dense(num_classes, activation='softmax'))\n",
    "cnn.compile(optimizer='adam', loss='categorical_crossentropy',metrics=['accuracy'])\n",
    "\n",
    "print(cnn.summary())\n",
    "\n",
    "import time\n",
    "start = time.time()\n",
    "history_cnn = cnn.fit(X_train, y_train, epochs=10, verbose=1, validation_data=(X_test, y_test))\n",
    "end = time.time()\n",
    "print('Time elapsed: {}s'.format(end-start))"
   ]
  },
  {
   "cell_type": "code",
   "execution_count": null,
   "metadata": {
    "colab": {
     "base_uri": "https://localhost:8080/",
     "height": 573
    },
    "executionInfo": {
     "elapsed": 29,
     "status": "ok",
     "timestamp": 1625148378877,
     "user": {
      "displayName": "Data Science 4all",
      "photoUrl": "https://lh3.googleusercontent.com/a-/AOh14GgRGpSe5kwQoFULmhFFkynj2R1RCmca4npgTigW=s64",
      "userId": "10344754763016191676"
     },
     "user_tz": 180
    },
    "id": "sGAMSMdInnM3",
    "outputId": "2072ab15-bd66-42b9-9342-c9cbbebc557d"
   },
   "outputs": [
    {
     "data": {
      "image/png": "[encoded data removed]",
      "text/plain": [
       "<Figure size 432x288 with 1 Axes>"
      ]
     },
     "metadata": {
      "needs_background": "light",
      "tags": []
     },
     "output_type": "display_data"
    },
    {
     "data": {
      "image/png": "[encoded data removed]",
      "text/plain": [
       "<Figure size 432x288 with 1 Axes>"
      ]
     },
     "metadata": {
      "needs_background": "light",
      "tags": []
     },
     "output_type": "display_data"
    }
   ],
   "source": [
    "print_graphs(history_cnn)"
   ]
  },
  {
   "cell_type": "markdown",
   "metadata": {
    "id": "N6LpughJ7ZsT"
   },
   "source": [
    "## **1.7. MODEL 6**"
   ]
  },
  {
   "cell_type": "code",
   "execution_count": null,
   "metadata": {
    "colab": {
     "base_uri": "https://localhost:8080/"
    },
    "executionInfo": {
     "elapsed": 502324,
     "status": "ok",
     "timestamp": 1625149026264,
     "user": {
      "displayName": "Data Science 4all",
      "photoUrl": "https://lh3.googleusercontent.com/a-/AOh14GgRGpSe5kwQoFULmhFFkynj2R1RCmca4npgTigW=s64",
      "userId": "10344754763016191676"
     },
     "user_tz": 180
    },
    "id": "LNuujYfwZhOb",
    "outputId": "a58c76e9-cdf3-4f45-9726-5763ed2e0b89"
   },
   "outputs": [
    {
     "name": "stdout",
     "output_type": "stream",
     "text": [
      "Model: \"sequential_2\"\n",
      "_________________________________________________________________\n",
      "Layer (type)                 Output Shape              Param #   \n",
      "=================================================================\n",
      "conv2d_4 (Conv2D)            (None, 256, 256, 32)      832       \n",
      "_________________________________________________________________\n",
      "max_pooling2d_4 (MaxPooling2 (None, 128, 128, 32)      0         \n",
      "_________________________________________________________________\n",
      "dropout_2 (Dropout)          (None, 128, 128, 32)      0         \n",
      "_________________________________________________________________\n",
      "conv2d_5 (Conv2D)            (None, 128, 128, 64)      51264     \n",
      "_________________________________________________________________\n",
      "max_pooling2d_5 (MaxPooling2 (None, 64, 64, 64)        0         \n",
      "_________________________________________________________________\n",
      "dropout_3 (Dropout)          (None, 64, 64, 64)        0         \n",
      "_________________________________________________________________\n",
      "flatten_2 (Flatten)          (None, 262144)            0         \n",
      "_________________________________________________________________\n",
      "dense_4 (Dense)              (None, 1024)              268436480 \n",
      "_________________________________________________________________\n",
      "dense_5 (Dense)              (None, 51)                52275     \n",
      "=================================================================\n",
      "Total params: 268,540,851\n",
      "Trainable params: 268,540,851\n",
      "Non-trainable params: 0\n",
      "_________________________________________________________________\n",
      "None\n",
      "Epoch 1/10\n",
      "558/558 [==============================] - 51s 90ms/step - loss: 3.1344 - accuracy: 0.5962 - val_loss: 0.9438 - val_accuracy: 0.8325\n",
      "Epoch 2/10\n",
      "558/558 [==============================] - 50s 89ms/step - loss: 0.6066 - accuracy: 0.9010 - val_loss: 0.8231 - val_accuracy: 0.8678\n",
      "Epoch 3/10\n",
      "558/558 [==============================] - 50s 90ms/step - loss: 0.3169 - accuracy: 0.9567 - val_loss: 1.0383 - val_accuracy: 0.8694\n",
      "Epoch 4/10\n",
      "558/558 [==============================] - 50s 90ms/step - loss: 0.2264 - accuracy: 0.9723 - val_loss: 1.0360 - val_accuracy: 0.8678\n",
      "Epoch 5/10\n",
      "558/558 [==============================] - 50s 90ms/step - loss: 0.2527 - accuracy: 0.9679 - val_loss: 1.1248 - val_accuracy: 0.8720\n",
      "Epoch 6/10\n",
      "558/558 [==============================] - 50s 90ms/step - loss: 0.1645 - accuracy: 0.9819 - val_loss: 1.1274 - val_accuracy: 0.8760\n",
      "Epoch 7/10\n",
      "558/558 [==============================] - 50s 90ms/step - loss: 0.1811 - accuracy: 0.9768 - val_loss: 1.1209 - val_accuracy: 0.8793\n",
      "Epoch 8/10\n",
      "558/558 [==============================] - 50s 90ms/step - loss: 0.1284 - accuracy: 0.9859 - val_loss: 1.1652 - val_accuracy: 0.8777\n",
      "Epoch 9/10\n",
      "558/558 [==============================] - 50s 90ms/step - loss: 0.1160 - accuracy: 0.9861 - val_loss: 1.2329 - val_accuracy: 0.8836\n",
      "Epoch 10/10\n",
      "558/558 [==============================] - 50s 89ms/step - loss: 0.1029 - accuracy: 0.9862 - val_loss: 1.0088 - val_accuracy: 0.8818\n",
      "Time elapsed: 501.49996042251587s\n"
     ]
    }
   ],
   "source": [
    "cnn = Sequential()\n",
    "cnn.add(Conv2D(32, kernel_size=(5,5), input_shape=X.shape[1:], padding='same', kernel_initializer='he_normal', activation='relu', kernel_constraint=unit_norm()))\n",
    "cnn.add(MaxPooling2D())\n",
    "cnn.add(Dropout(0.05))\n",
    "\n",
    "cnn.add(Conv2D(64, kernel_size=(5,5), padding='same', activation='relu', kernel_regularizer=regularizers.l2(l=0.01)))\n",
    "cnn.add(MaxPooling2D())\n",
    "cnn.add(Dropout(0.5))\n",
    "\n",
    "cnn.add(Flatten())\n",
    "cnn.add(Dense(1024, activation='relu'))\n",
    "\n",
    "cnn.add(Dense(len(categories), activation='softmax'))\n",
    "cnn.compile(optimizer='adam', loss='categorical_crossentropy',metrics=['accuracy'])\n",
    "\n",
    "print(cnn.summary())\n",
    "\n",
    "import time\n",
    "start = time.time()\n",
    "history_cnn = cnn.fit(X_train, y_train, epochs=10, verbose=1, validation_data=(X_test, y_test))\n",
    "end = time.time()\n",
    "print('Time elapsed: {}s'.format(end-start))"
   ]
  },
  {
   "cell_type": "code",
   "execution_count": null,
   "metadata": {
    "colab": {
     "base_uri": "https://localhost:8080/",
     "height": 573
    },
    "executionInfo": {
     "elapsed": 34,
     "status": "ok",
     "timestamp": 1625149026268,
     "user": {
      "displayName": "Data Science 4all",
      "photoUrl": "https://lh3.googleusercontent.com/a-/AOh14GgRGpSe5kwQoFULmhFFkynj2R1RCmca4npgTigW=s64",
      "userId": "10344754763016191676"
     },
     "user_tz": 180
    },
    "id": "fb2D8bbnZg8s",
    "outputId": "1bd6f4e5-fa10-4282-cda1-b7aafdefdad2"
   },
   "outputs": [
    {
     "data": {
      "image/png": "[encoded data removed]",
      "text/plain": [
       "<Figure size 432x288 with 1 Axes>"
      ]
     },
     "metadata": {
      "needs_background": "light",
      "tags": []
     },
     "output_type": "display_data"
    },
    {
     "data": {
      "image/png": "[encoded data removed]",
      "text/plain": [
       "<Figure size 432x288 with 1 Axes>"
      ]
     },
     "metadata": {
      "needs_background": "light",
      "tags": []
     },
     "output_type": "display_data"
    }
   ],
   "source": [
    "print_graphs(history_cnn)"
   ]
  },
  {
   "cell_type": "markdown",
   "metadata": {
    "id": "Jur2Ejke7dny"
   },
   "source": [
    "## **1.8. MODEL 7**"
   ]
  },
  {
   "cell_type": "code",
   "execution_count": null,
   "metadata": {
    "colab": {
     "base_uri": "https://localhost:8080/"
    },
    "executionInfo": {
     "elapsed": 461977,
     "status": "ok",
     "timestamp": 1625150071742,
     "user": {
      "displayName": "Data Science 4all",
      "photoUrl": "https://lh3.googleusercontent.com/a-/AOh14GgRGpSe5kwQoFULmhFFkynj2R1RCmca4npgTigW=s64",
      "userId": "10344754763016191676"
     },
     "user_tz": 180
    },
    "id": "qrZT_0TkdkXj",
    "outputId": "d828b760-c6f4-4469-e605-0abdee040d9e"
   },
   "outputs": [
    {
     "name": "stdout",
     "output_type": "stream",
     "text": [
      "Model: \"sequential_3\"\n",
      "_________________________________________________________________\n",
      "Layer (type)                 Output Shape              Param #   \n",
      "=================================================================\n",
      "conv2d_6 (Conv2D)            (None, 256, 256, 32)      320       \n",
      "_________________________________________________________________\n",
      "max_pooling2d_6 (MaxPooling2 (None, 128, 128, 32)      0         \n",
      "_________________________________________________________________\n",
      "dropout_4 (Dropout)          (None, 128, 128, 32)      0         \n",
      "_________________________________________________________________\n",
      "conv2d_7 (Conv2D)            (None, 128, 128, 64)      18496     \n",
      "_________________________________________________________________\n",
      "max_pooling2d_7 (MaxPooling2 (None, 64, 64, 64)        0         \n",
      "_________________________________________________________________\n",
      "dropout_5 (Dropout)          (None, 64, 64, 64)        0         \n",
      "_________________________________________________________________\n",
      "flatten_3 (Flatten)          (None, 262144)            0         \n",
      "_________________________________________________________________\n",
      "dense_6 (Dense)              (None, 1024)              268436480 \n",
      "_________________________________________________________________\n",
      "dense_7 (Dense)              (None, 51)                52275     \n",
      "=================================================================\n",
      "Total params: 268,507,571\n",
      "Trainable params: 268,507,571\n",
      "Non-trainable params: 0\n",
      "_________________________________________________________________\n",
      "None\n",
      "Epoch 1/10\n",
      "558/558 [==============================] - 47s 83ms/step - loss: 8.1584 - accuracy: 0.3084 - val_loss: 1.5131 - val_accuracy: 0.7514\n",
      "Epoch 2/10\n",
      "558/558 [==============================] - 46s 82ms/step - loss: 0.9364 - accuracy: 0.8462 - val_loss: 0.9742 - val_accuracy: 0.8437\n",
      "Epoch 3/10\n",
      "558/558 [==============================] - 46s 82ms/step - loss: 0.3757 - accuracy: 0.9572 - val_loss: 1.0016 - val_accuracy: 0.8656\n",
      "Epoch 4/10\n",
      "558/558 [==============================] - 46s 82ms/step - loss: 0.2668 - accuracy: 0.9783 - val_loss: 1.0322 - val_accuracy: 0.8678\n",
      "Epoch 5/10\n",
      "558/558 [==============================] - 46s 83ms/step - loss: 0.2218 - accuracy: 0.9835 - val_loss: 1.0306 - val_accuracy: 0.8735\n",
      "Epoch 6/10\n",
      "558/558 [==============================] - 46s 83ms/step - loss: 0.1855 - accuracy: 0.9869 - val_loss: 1.0673 - val_accuracy: 0.8712\n",
      "Epoch 7/10\n",
      "558/558 [==============================] - 46s 83ms/step - loss: 0.1620 - accuracy: 0.9868 - val_loss: 1.0568 - val_accuracy: 0.8779\n",
      "Epoch 8/10\n",
      "558/558 [==============================] - 46s 82ms/step - loss: 0.1410 - accuracy: 0.9882 - val_loss: 1.0064 - val_accuracy: 0.8788\n",
      "Epoch 9/10\n",
      "558/558 [==============================] - 46s 82ms/step - loss: 0.1179 - accuracy: 0.9883 - val_loss: 1.1262 - val_accuracy: 0.8669\n",
      "Epoch 10/10\n",
      "558/558 [==============================] - 46s 82ms/step - loss: 0.1022 - accuracy: 0.9892 - val_loss: 1.0718 - val_accuracy: 0.8764\n",
      "Time elapsed: 461.5729835033417s\n"
     ]
    }
   ],
   "source": [
    "cnn = Sequential()\n",
    "cnn.add(Conv2D(32, kernel_size=(3,3), input_shape=X.shape[1:], padding='same', kernel_initializer='he_normal', activation='relu', kernel_constraint=unit_norm()))\n",
    "cnn.add(MaxPooling2D())\n",
    "cnn.add(Dropout(0.4))\n",
    "\n",
    "cnn.add(Conv2D(64, kernel_size=(3,3), padding='same', activation='relu', kernel_regularizer=regularizers.l2(l=0.01)))\n",
    "cnn.add(MaxPooling2D())\n",
    "cnn.add(Dropout(0.4))\n",
    "\n",
    "cnn.add(Flatten())\n",
    "cnn.add(Dense(1024, activation='relu'))\n",
    "\n",
    "cnn.add(Dense(len(categories), activation='softmax'))\n",
    "cnn.compile(optimizer='adam', loss='categorical_crossentropy',metrics=['accuracy'])\n",
    "\n",
    "print(cnn.summary())\n",
    "\n",
    "import time\n",
    "start = time.time()\n",
    "history_cnn = cnn.fit(X_train, y_train, epochs=10, verbose=1, validation_data=(X_test, y_test))\n",
    "end = time.time()\n",
    "print('Time elapsed: {}s'.format(end-start))"
   ]
  },
  {
   "cell_type": "code",
   "execution_count": null,
   "metadata": {
    "colab": {
     "base_uri": "https://localhost:8080/",
     "height": 573
    },
    "executionInfo": {
     "elapsed": 581,
     "status": "ok",
     "timestamp": 1625150072308,
     "user": {
      "displayName": "Data Science 4all",
      "photoUrl": "https://lh3.googleusercontent.com/a-/AOh14GgRGpSe5kwQoFULmhFFkynj2R1RCmca4npgTigW=s64",
      "userId": "10344754763016191676"
     },
     "user_tz": 180
    },
    "id": "T2gg0YJ1dkNw",
    "outputId": "c7322625-1258-4f1e-c9c5-32ff8e0bfcb8"
   },
   "outputs": [
    {
     "data": {
      "image/png": "[encoded data removed]",
      "text/plain": [
       "<Figure size 432x288 with 1 Axes>"
      ]
     },
     "metadata": {
      "needs_background": "light",
      "tags": []
     },
     "output_type": "display_data"
    },
    {
     "data": {
      "image/png": "[encoded data removed]",
      "text/plain": [
       "<Figure size 432x288 with 1 Axes>"
      ]
     },
     "metadata": {
      "needs_background": "light",
      "tags": []
     },
     "output_type": "display_data"
    }
   ],
   "source": [
    "print_graphs(history_cnn)"
   ]
  },
  {
   "cell_type": "markdown",
   "metadata": {
    "id": "pzoBoY7N7kCP"
   },
   "source": [
    "### Saving model 7"
   ]
  },
  {
   "cell_type": "code",
   "execution_count": null,
   "metadata": {
    "id": "FOjbtgaUdkE8"
   },
   "outputs": [],
   "source": [
    "# cnn.save('/content/gdrive/MyDrive/Colab Notebooks/home_and_pet_runs/models/home_and_pet_256_model.h5')"
   ]
  }
 ],
 "metadata": {
  "accelerator": "GPU",
  "colab": {
   "collapsed_sections": [],
   "machine_shape": "hm",
   "name": "CNN_home_and_pets_modeling.ipynb",
   "provenance": [
    {
     "file_id": "1E3lzZUClAApQq95oswAkq_fish7Lht04",
     "timestamp": 1622920489995
    }
   ]
  },
  "kernelspec": {
   "display_name": "Python 3",
   "language": "python",
   "name": "python3"
  },
  "language_info": {
   "codemirror_mode": {
    "name": "ipython",
    "version": 3
   },
   "file_extension": ".py",
   "mimetype": "text/x-python",
   "name": "python",
   "nbconvert_exporter": "python",
   "pygments_lexer": "ipython3",
   "version": "3.8.5"
  }
 },
 "nbformat": 4,
 "nbformat_minor": 5
}
