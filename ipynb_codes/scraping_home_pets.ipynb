{
 "cells": [
  {
   "cell_type": "markdown",
   "id": "c6114fac",
   "metadata": {},
   "source": [
    "### Required Libraries"
   ]
  },
  {
   "cell_type": "code",
   "execution_count": 49,
   "id": "42a779ea",
   "metadata": {},
   "outputs": [],
   "source": [
    "# beautifulsoup4      4.9.3\n",
    "# fake-useragent      0.1.11\n",
    "# helium              3.0.5\n",
    "# ipython             7.22.0\n",
    "# matplotlib          3.3.4\n",
    "# pandas              1.2.4\n",
    "# Pillow              8.2.0\n",
    "# requests            2.25.1\n",
    "# tqdm                4.59.0"
   ]
  },
  {
   "cell_type": "code",
   "execution_count": 1,
   "id": "95b66395",
   "metadata": {},
   "outputs": [],
   "source": [
    "from helium import *\n",
    "from bs4 import BeautifulSoup\n",
    "import pandas as pd\n",
    "from tqdm import tqdm as tq\n",
    "import time\n",
    "import requests\n",
    "import os\n",
    "from fake_useragent import UserAgent"
   ]
  },
  {
   "cell_type": "code",
   "execution_count": 35,
   "id": "d033c6f5",
   "metadata": {
    "scrolled": true
   },
   "outputs": [
    {
     "data": {
      "text/html": [
       "<div>\n",
       "<style scoped>\n",
       "    .dataframe tbody tr th:only-of-type {\n",
       "        vertical-align: middle;\n",
       "    }\n",
       "\n",
       "    .dataframe tbody tr th {\n",
       "        vertical-align: top;\n",
       "    }\n",
       "\n",
       "    .dataframe thead th {\n",
       "        text-align: right;\n",
       "    }\n",
       "</style>\n",
       "<table border=\"1\" class=\"dataframe\">\n",
       "  <thead>\n",
       "    <tr style=\"text-align: right;\">\n",
       "      <th></th>\n",
       "      <th>product_name</th>\n",
       "      <th>product_link_name</th>\n",
       "      <th>link</th>\n",
       "      <th>major_category_name</th>\n",
       "      <th>major_category_link</th>\n",
       "    </tr>\n",
       "  </thead>\n",
       "  <tbody>\n",
       "    <tr>\n",
       "      <th>0</th>\n",
       "      <td>AREA RUGS &amp; FLOORING</td>\n",
       "      <td>AREA RUGS &amp; FLOORING</td>\n",
       "      <td>https://www.canadiantire.ca/en/household-pets/...</td>\n",
       "      <td>HOME &amp; PETS</td>\n",
       "      <td>https://www.canadiantire.ca/en/household-pets....</td>\n",
       "    </tr>\n",
       "    <tr>\n",
       "      <th>1</th>\n",
       "      <td>ARTIFICIAL FLOWERS &amp; PLANTS</td>\n",
       "      <td>ARTIFICIAL FLOWERS &amp; PLANTS</td>\n",
       "      <td>https://www.canadiantire.ca/en/household-pets/...</td>\n",
       "      <td>HOME &amp; PETS</td>\n",
       "      <td>https://www.canadiantire.ca/en/household-pets....</td>\n",
       "    </tr>\n",
       "    <tr>\n",
       "      <th>2</th>\n",
       "      <td>CANDLES</td>\n",
       "      <td>CANDLES</td>\n",
       "      <td>https://www.canadiantire.ca/en/household-pets/...</td>\n",
       "      <td>HOME &amp; PETS</td>\n",
       "      <td>https://www.canadiantire.ca/en/household-pets....</td>\n",
       "    </tr>\n",
       "    <tr>\n",
       "      <th>3</th>\n",
       "      <td>DECORATIVE PILLOWS</td>\n",
       "      <td>DECORATIVE PILLOWS</td>\n",
       "      <td>https://www.canadiantire.ca/en/household-pets/...</td>\n",
       "      <td>HOME &amp; PETS</td>\n",
       "      <td>https://www.canadiantire.ca/en/household-pets....</td>\n",
       "    </tr>\n",
       "    <tr>\n",
       "      <th>4</th>\n",
       "      <td>WALL CLOCKS</td>\n",
       "      <td>WALL CLOCKS</td>\n",
       "      <td>https://www.canadiantire.ca/en/household-pets/...</td>\n",
       "      <td>HOME &amp; PETS</td>\n",
       "      <td>https://www.canadiantire.ca/en/household-pets....</td>\n",
       "    </tr>\n",
       "  </tbody>\n",
       "</table>\n",
       "</div>"
      ],
      "text/plain": [
       "                  product_name            product_link_name  \\\n",
       "0         AREA RUGS & FLOORING         AREA RUGS & FLOORING   \n",
       "1  ARTIFICIAL FLOWERS & PLANTS  ARTIFICIAL FLOWERS & PLANTS   \n",
       "2                      CANDLES                      CANDLES   \n",
       "3           DECORATIVE PILLOWS           DECORATIVE PILLOWS   \n",
       "4                  WALL CLOCKS                  WALL CLOCKS   \n",
       "\n",
       "                                                link major_category_name  \\\n",
       "0  https://www.canadiantire.ca/en/household-pets/...         HOME & PETS   \n",
       "1  https://www.canadiantire.ca/en/household-pets/...         HOME & PETS   \n",
       "2  https://www.canadiantire.ca/en/household-pets/...         HOME & PETS   \n",
       "3  https://www.canadiantire.ca/en/household-pets/...         HOME & PETS   \n",
       "4  https://www.canadiantire.ca/en/household-pets/...         HOME & PETS   \n",
       "\n",
       "                                 major_category_link  \n",
       "0  https://www.canadiantire.ca/en/household-pets....  \n",
       "1  https://www.canadiantire.ca/en/household-pets....  \n",
       "2  https://www.canadiantire.ca/en/household-pets....  \n",
       "3  https://www.canadiantire.ca/en/household-pets....  \n",
       "4  https://www.canadiantire.ca/en/household-pets....  "
      ]
     },
     "execution_count": 35,
     "metadata": {},
     "output_type": "execute_result"
    }
   ],
   "source": [
    "df_category = pd.read_csv('kitchen_2.csv')\n",
    "df_category.head()"
   ]
  },
  {
   "cell_type": "code",
   "execution_count": 36,
   "id": "727555ad",
   "metadata": {},
   "outputs": [
    {
     "data": {
      "text/plain": [
       "(102, 5)"
      ]
     },
     "execution_count": 36,
     "metadata": {},
     "output_type": "execute_result"
    }
   ],
   "source": [
    "df_category.shape"
   ]
  },
  {
   "cell_type": "code",
   "execution_count": 4,
   "id": "6db7e7b0",
   "metadata": {},
   "outputs": [],
   "source": [
    "def update_link(link):\n",
    "    split = link.split('?') \n",
    "    complement = 'https:'\n",
    "    updated_link = complement + split[0]\n",
    "    return updated_link"
   ]
  },
  {
   "cell_type": "code",
   "execution_count": 37,
   "id": "c789d154",
   "metadata": {},
   "outputs": [
    {
     "name": "stderr",
     "output_type": "stream",
     "text": [
      "  0%|          | 0/20 [00:00<?, ?it/s]\n",
      "  0%|          | 0/5 [00:00<?, ?it/s]\u001b[A"
     ]
    },
    {
     "name": "stdout",
     "output_type": "stream",
     "text": [
      "0\n",
      "Start fetching process for AREA RUGS & FLOORING!\n",
      "Page fetched: https://www.canadiantire.ca/en/household-pets/home-decor/area-rugs-flooring.html?adlocation=LIT_Category_Product_AreaRugsAndFlooringCat_en?page=1.\n",
      "Browser closed.\n"
     ]
    },
    {
     "name": "stderr",
     "output_type": "stream",
     "text": [
      "\n",
      " 20%|██        | 1/5 [00:49<03:17, 49.37s/it]\u001b[A"
     ]
    },
    {
     "name": "stdout",
     "output_type": "stream",
     "text": [
      "Time elapsed: 49.4s\n",
      "Page fetched: https://www.canadiantire.ca/en/household-pets/home-decor/area-rugs-flooring.html?adlocation=LIT_Category_Product_AreaRugsAndFlooringCat_en?page=2.\n",
      "Browser closed.\n"
     ]
    },
    {
     "name": "stderr",
     "output_type": "stream",
     "text": [
      "\n",
      " 40%|████      | 2/5 [01:35<02:22, 47.42s/it]\u001b[A"
     ]
    },
    {
     "name": "stdout",
     "output_type": "stream",
     "text": [
      "Time elapsed: 46.0s\n",
      "Page fetched: https://www.canadiantire.ca/en/household-pets/home-decor/area-rugs-flooring.html?adlocation=LIT_Category_Product_AreaRugsAndFlooringCat_en?page=3.\n",
      "Browser closed.\n"
     ]
    },
    {
     "name": "stderr",
     "output_type": "stream",
     "text": [
      "\n",
      " 60%|██████    | 3/5 [02:45<01:55, 57.85s/it]\u001b[A"
     ]
    },
    {
     "name": "stdout",
     "output_type": "stream",
     "text": [
      "Time elapsed: 70.2s\n",
      "Page fetched: https://www.canadiantire.ca/en/household-pets/home-decor/area-rugs-flooring.html?adlocation=LIT_Category_Product_AreaRugsAndFlooringCat_en?page=4.\n",
      "Browser closed.\n"
     ]
    },
    {
     "name": "stderr",
     "output_type": "stream",
     "text": [
      "\n",
      " 80%|████████  | 4/5 [03:32<00:53, 53.55s/it]\u001b[A"
     ]
    },
    {
     "name": "stdout",
     "output_type": "stream",
     "text": [
      "Time elapsed: 46.9s\n",
      "Page fetched: https://www.canadiantire.ca/en/household-pets/home-decor/area-rugs-flooring.html?adlocation=LIT_Category_Product_AreaRugsAndFlooringCat_en?page=5.\n",
      "Browser closed.\n"
     ]
    },
    {
     "name": "stderr",
     "output_type": "stream",
     "text": [
      "\n",
      "100%|██████████| 5/5 [04:20<00:00, 52.00s/it]\u001b[A"
     ]
    },
    {
     "name": "stdout",
     "output_type": "stream",
     "text": [
      "Time elapsed: 47.4s\n",
      "Fetching process for AREA RUGS & FLOORING finished!\n",
      "Creating dataframe.\n"
     ]
    },
    {
     "name": "stderr",
     "output_type": "stream",
     "text": [
      "\n",
      "  5%|▌         | 1/20 [04:20<1:22:25, 260.29s/it]\n",
      "  0%|          | 0/5 [00:00<?, ?it/s]\u001b[A"
     ]
    },
    {
     "name": "stdout",
     "output_type": "stream",
     "text": [
      "Dataframe for AREA RUGS & FLOORING created.\n",
      "\n",
      "\n",
      "\n",
      "\n",
      "1\n",
      "Start fetching process for ARTIFICIAL FLOWERS & PLANTS!\n",
      "Page fetched: https://www.canadiantire.ca/en/household-pets/home-decor/artificial-flowers-plants.html?adlocation=LIT_Category_Product_ArtificialFlowersAndPlantsCat_en?page=1.\n",
      "Browser closed.\n"
     ]
    },
    {
     "name": "stderr",
     "output_type": "stream",
     "text": [
      "\n",
      " 20%|██        | 1/5 [00:48<03:13, 48.41s/it]\u001b[A"
     ]
    },
    {
     "name": "stdout",
     "output_type": "stream",
     "text": [
      "Time elapsed: 48.4s\n",
      "Page fetched: https://www.canadiantire.ca/en/household-pets/home-decor/artificial-flowers-plants.html?adlocation=LIT_Category_Product_ArtificialFlowersAndPlantsCat_en?page=2.\n",
      "Browser closed.\n"
     ]
    },
    {
     "name": "stderr",
     "output_type": "stream",
     "text": [
      "\n",
      " 40%|████      | 2/5 [01:35<02:22, 47.57s/it]\u001b[A"
     ]
    },
    {
     "name": "stdout",
     "output_type": "stream",
     "text": [
      "Time elapsed: 47.0s\n",
      "Page fetched: https://www.canadiantire.ca/en/household-pets/home-decor/artificial-flowers-plants.html?adlocation=LIT_Category_Product_ArtificialFlowersAndPlantsCat_en?page=3.\n",
      "Browser closed.\n"
     ]
    },
    {
     "name": "stderr",
     "output_type": "stream",
     "text": [
      "\n",
      " 60%|██████    | 3/5 [02:19<01:32, 46.05s/it]\u001b[A"
     ]
    },
    {
     "name": "stdout",
     "output_type": "stream",
     "text": [
      "Time elapsed: 44.2s\n",
      "Page fetched: https://www.canadiantire.ca/en/household-pets/home-decor/artificial-flowers-plants.html?adlocation=LIT_Category_Product_ArtificialFlowersAndPlantsCat_en?page=4.\n",
      "Browser closed.\n"
     ]
    },
    {
     "name": "stderr",
     "output_type": "stream",
     "text": [
      "\n",
      " 80%|████████  | 4/5 [03:39<00:59, 59.56s/it]\u001b[A"
     ]
    },
    {
     "name": "stdout",
     "output_type": "stream",
     "text": [
      "Time elapsed: 80.3s\n",
      "Page fetched: https://www.canadiantire.ca/en/household-pets/home-decor/artificial-flowers-plants.html?adlocation=LIT_Category_Product_ArtificialFlowersAndPlantsCat_en?page=5.\n",
      "Browser closed.\n"
     ]
    },
    {
     "name": "stderr",
     "output_type": "stream",
     "text": [
      "\n",
      "100%|██████████| 5/5 [04:28<00:00, 53.78s/it]\u001b[A\n",
      " 10%|█         | 2/20 [08:49<1:19:37, 265.44s/it]\n",
      "  0%|          | 0/5 [00:00<?, ?it/s]\u001b[A"
     ]
    },
    {
     "name": "stdout",
     "output_type": "stream",
     "text": [
      "Time elapsed: 49.0s\n",
      "Fetching process for ARTIFICIAL FLOWERS & PLANTS finished!\n",
      "Creating dataframe.\n",
      "Dataframe for ARTIFICIAL FLOWERS & PLANTS created.\n",
      "\n",
      "\n",
      "\n",
      "\n",
      "2\n",
      "Start fetching process for CANDLES!\n",
      "Page fetched: https://www.canadiantire.ca/en/household-pets/home-decor/candles.html?adlocation=LIT_Category_Product_CandlesCat_en?page=1.\n",
      "Browser closed.\n"
     ]
    },
    {
     "name": "stderr",
     "output_type": "stream",
     "text": [
      "\n",
      " 20%|██        | 1/5 [00:57<03:48, 57.20s/it]\u001b[A"
     ]
    },
    {
     "name": "stdout",
     "output_type": "stream",
     "text": [
      "Time elapsed: 57.2s\n",
      "Page fetched: https://www.canadiantire.ca/en/household-pets/home-decor/candles.html?adlocation=LIT_Category_Product_CandlesCat_en?page=2.\n",
      "Browser closed.\n"
     ]
    },
    {
     "name": "stderr",
     "output_type": "stream",
     "text": [
      "\n",
      " 40%|████      | 2/5 [01:45<02:35, 51.87s/it]\u001b[A"
     ]
    },
    {
     "name": "stdout",
     "output_type": "stream",
     "text": [
      "Time elapsed: 48.1s\n",
      "Page fetched: https://www.canadiantire.ca/en/household-pets/home-decor/candles.html?adlocation=LIT_Category_Product_CandlesCat_en?page=3.\n",
      "Browser closed.\n"
     ]
    },
    {
     "name": "stderr",
     "output_type": "stream",
     "text": [
      "\n",
      " 60%|██████    | 3/5 [02:33<01:40, 50.30s/it]\u001b[A"
     ]
    },
    {
     "name": "stdout",
     "output_type": "stream",
     "text": [
      "Time elapsed: 48.4s\n",
      "Page fetched: https://www.canadiantire.ca/en/household-pets/home-decor/candles.html?adlocation=LIT_Category_Product_CandlesCat_en?page=4.\n",
      "Browser closed.\n"
     ]
    },
    {
     "name": "stderr",
     "output_type": "stream",
     "text": [
      "\n",
      " 80%|████████  | 4/5 [03:21<00:49, 49.44s/it]\u001b[A"
     ]
    },
    {
     "name": "stdout",
     "output_type": "stream",
     "text": [
      "Time elapsed: 48.1s\n",
      "Page fetched: https://www.canadiantire.ca/en/household-pets/home-decor/candles.html?adlocation=LIT_Category_Product_CandlesCat_en?page=5.\n",
      "Browser closed.\n"
     ]
    },
    {
     "name": "stderr",
     "output_type": "stream",
     "text": [
      "\n",
      "100%|██████████| 5/5 [04:20<00:00, 52.01s/it]\u001b[A\n",
      " 15%|█▌        | 3/20 [13:09<1:14:31, 263.03s/it]\n",
      "  0%|          | 0/5 [00:00<?, ?it/s]\u001b[A"
     ]
    },
    {
     "name": "stdout",
     "output_type": "stream",
     "text": [
      "Time elapsed: 58.2s\n",
      "Fetching process for CANDLES finished!\n",
      "Creating dataframe.\n",
      "Dataframe for CANDLES created.\n",
      "\n",
      "\n",
      "\n",
      "\n",
      "3\n",
      "Start fetching process for DECORATIVE PILLOWS!\n",
      "Page fetched: https://www.canadiantire.ca/en/household-pets/home-decor/decorative-pillows-throws/decorative-pillows.html?adlocation=LIT_Category_Product_DecorativePillowsCat_en?page=1.\n",
      "Browser closed.\n"
     ]
    },
    {
     "name": "stderr",
     "output_type": "stream",
     "text": [
      "\n",
      " 20%|██        | 1/5 [01:20<05:21, 80.28s/it]\u001b[A"
     ]
    },
    {
     "name": "stdout",
     "output_type": "stream",
     "text": [
      "Time elapsed: 80.3s\n",
      "Page fetched: https://www.canadiantire.ca/en/household-pets/home-decor/decorative-pillows-throws/decorative-pillows.html?adlocation=LIT_Category_Product_DecorativePillowsCat_en?page=2.\n",
      "Browser closed.\n"
     ]
    },
    {
     "name": "stderr",
     "output_type": "stream",
     "text": [
      "\n",
      " 40%|████      | 2/5 [02:06<02:59, 59.99s/it]\u001b[A"
     ]
    },
    {
     "name": "stdout",
     "output_type": "stream",
     "text": [
      "Time elapsed: 45.8s\n",
      "Page fetched: https://www.canadiantire.ca/en/household-pets/home-decor/decorative-pillows-throws/decorative-pillows.html?adlocation=LIT_Category_Product_DecorativePillowsCat_en?page=3.\n",
      "Browser closed.\n"
     ]
    },
    {
     "name": "stderr",
     "output_type": "stream",
     "text": [
      "\n",
      " 60%|██████    | 3/5 [02:54<01:49, 54.83s/it]\u001b[A"
     ]
    },
    {
     "name": "stdout",
     "output_type": "stream",
     "text": [
      "Time elapsed: 48.7s\n",
      "Page fetched: https://www.canadiantire.ca/en/household-pets/home-decor/decorative-pillows-throws/decorative-pillows.html?adlocation=LIT_Category_Product_DecorativePillowsCat_en?page=4.\n",
      "Browser closed.\n"
     ]
    },
    {
     "name": "stderr",
     "output_type": "stream",
     "text": [
      "\n",
      " 80%|████████  | 4/5 [03:37<00:50, 50.24s/it]\u001b[A"
     ]
    },
    {
     "name": "stdout",
     "output_type": "stream",
     "text": [
      "Time elapsed: 43.2s\n",
      "Page fetched: https://www.canadiantire.ca/en/household-pets/home-decor/decorative-pillows-throws/decorative-pillows.html?adlocation=LIT_Category_Product_DecorativePillowsCat_en?page=5.\n",
      "Browser closed.\n"
     ]
    },
    {
     "name": "stderr",
     "output_type": "stream",
     "text": [
      "\n",
      "100%|██████████| 5/5 [04:25<00:00, 53.10s/it]\u001b[A\n",
      " 20%|██        | 4/20 [17:35<1:10:24, 264.02s/it]\n",
      "  0%|          | 0/5 [00:00<?, ?it/s]\u001b[A"
     ]
    },
    {
     "name": "stdout",
     "output_type": "stream",
     "text": [
      "Time elapsed: 47.5s\n",
      "Fetching process for DECORATIVE PILLOWS finished!\n",
      "Creating dataframe.\n",
      "Dataframe for DECORATIVE PILLOWS created.\n",
      "\n",
      "\n",
      "\n",
      "\n",
      "4\n",
      "Start fetching process for WALL CLOCKS!\n",
      "Page fetched: https://www.canadiantire.ca/en/household-pets/home-decor/wall-clocks.html?adlocation=LIT_Category_Product_WallClocksCat_en?page=1.\n",
      "Browser closed.\n"
     ]
    },
    {
     "name": "stderr",
     "output_type": "stream",
     "text": [
      "\n",
      " 20%|██        | 1/5 [00:46<03:04, 46.22s/it]\u001b[A"
     ]
    },
    {
     "name": "stdout",
     "output_type": "stream",
     "text": [
      "Time elapsed: 46.2s\n",
      "Page fetched: https://www.canadiantire.ca/en/household-pets/home-decor/wall-clocks.html?adlocation=LIT_Category_Product_WallClocksCat_en?page=2.\n",
      "Browser closed.\n"
     ]
    },
    {
     "name": "stderr",
     "output_type": "stream",
     "text": [
      "\n",
      " 40%|████      | 2/5 [01:33<02:20, 46.67s/it]\u001b[A"
     ]
    },
    {
     "name": "stdout",
     "output_type": "stream",
     "text": [
      "Time elapsed: 47.0s\n",
      "Page fetched: https://www.canadiantire.ca/en/household-pets/home-decor/wall-clocks.html?adlocation=LIT_Category_Product_WallClocksCat_en?page=3.\n",
      "Browser closed.\n"
     ]
    },
    {
     "name": "stderr",
     "output_type": "stream",
     "text": [
      "\n",
      " 60%|██████    | 3/5 [02:18<01:32, 46.14s/it]\u001b[A"
     ]
    },
    {
     "name": "stdout",
     "output_type": "stream",
     "text": [
      "Time elapsed: 45.5s\n",
      "Page fetched: https://www.canadiantire.ca/en/household-pets/home-decor/wall-clocks.html?adlocation=LIT_Category_Product_WallClocksCat_en?page=4.\n",
      "Browser closed.\n"
     ]
    },
    {
     "name": "stderr",
     "output_type": "stream",
     "text": [
      "\n",
      " 80%|████████  | 4/5 [03:04<00:46, 46.17s/it]\u001b[A"
     ]
    },
    {
     "name": "stdout",
     "output_type": "stream",
     "text": [
      "Time elapsed: 46.2s\n",
      "Page fetched: https://www.canadiantire.ca/en/household-pets/home-decor/wall-clocks.html?adlocation=LIT_Category_Product_WallClocksCat_en?page=5.\n",
      "Browser closed.\n"
     ]
    },
    {
     "name": "stderr",
     "output_type": "stream",
     "text": [
      "\n",
      "100%|██████████| 5/5 [03:50<00:00, 46.09s/it]\u001b[A\n",
      " 25%|██▌       | 5/20 [21:25<1:02:59, 251.95s/it]\n",
      "  0%|          | 0/5 [00:00<?, ?it/s]\u001b[A"
     ]
    },
    {
     "name": "stdout",
     "output_type": "stream",
     "text": [
      "Time elapsed: 45.5s\n",
      "Fetching process for WALL CLOCKS finished!\n",
      "Creating dataframe.\n",
      "Dataframe for WALL CLOCKS created.\n",
      "\n",
      "\n",
      "\n",
      "\n",
      "5\n",
      "Start fetching process for WALL MIRRORS!\n",
      "Page fetched: https://www.canadiantire.ca/en/household-pets/home-decor/wall-mirrors.html?adlocation=LIT_Category_Product_WallMirrorsCat_en?page=1.\n",
      "Browser closed.\n"
     ]
    },
    {
     "name": "stderr",
     "output_type": "stream",
     "text": [
      "\n",
      " 20%|██        | 1/5 [00:33<02:13, 33.35s/it]\u001b[A"
     ]
    },
    {
     "name": "stdout",
     "output_type": "stream",
     "text": [
      "Time elapsed: 33.4s\n",
      "Page fetched: https://www.canadiantire.ca/en/household-pets/home-decor/wall-mirrors.html?adlocation=LIT_Category_Product_WallMirrorsCat_en?page=2.\n",
      "Browser closed.\n"
     ]
    },
    {
     "name": "stderr",
     "output_type": "stream",
     "text": [
      "\n",
      " 40%|████      | 2/5 [01:18<02:00, 40.09s/it]\u001b[A"
     ]
    },
    {
     "name": "stdout",
     "output_type": "stream",
     "text": [
      "Time elapsed: 44.8s\n",
      "Page fetched: https://www.canadiantire.ca/en/household-pets/home-decor/wall-mirrors.html?adlocation=LIT_Category_Product_WallMirrorsCat_en?page=3.\n",
      "Browser closed.\n"
     ]
    },
    {
     "name": "stderr",
     "output_type": "stream",
     "text": [
      "\n",
      " 60%|██████    | 3/5 [02:03<01:24, 42.31s/it]\u001b[A"
     ]
    },
    {
     "name": "stdout",
     "output_type": "stream",
     "text": [
      "Time elapsed: 45.0s\n",
      "Page fetched: https://www.canadiantire.ca/en/household-pets/home-decor/wall-mirrors.html?adlocation=LIT_Category_Product_WallMirrorsCat_en?page=4.\n",
      "Browser closed.\n"
     ]
    },
    {
     "name": "stderr",
     "output_type": "stream",
     "text": [
      "\n",
      " 80%|████████  | 4/5 [02:51<00:44, 44.82s/it]\u001b[A"
     ]
    },
    {
     "name": "stdout",
     "output_type": "stream",
     "text": [
      "Time elapsed: 48.7s\n",
      "Page fetched: https://www.canadiantire.ca/en/household-pets/home-decor/wall-mirrors.html?adlocation=LIT_Category_Product_WallMirrorsCat_en?page=5.\n",
      "Browser closed.\n"
     ]
    },
    {
     "name": "stderr",
     "output_type": "stream",
     "text": [
      "\n",
      "100%|██████████| 5/5 [03:38<00:00, 43.63s/it]\u001b[A\n",
      " 30%|███       | 6/20 [25:03<56:06, 240.48s/it]  \n",
      "  0%|          | 0/5 [00:00<?, ?it/s]\u001b[A"
     ]
    },
    {
     "name": "stdout",
     "output_type": "stream",
     "text": [
      "Time elapsed: 46.3s\n",
      "Fetching process for WALL MIRRORS finished!\n",
      "Creating dataframe.\n",
      "Dataframe for WALL MIRRORS created.\n",
      "\n",
      "\n",
      "\n",
      "\n",
      "6\n",
      "Start fetching process for PENDANT LIGHTS!\n",
      "Page fetched: https://www.canadiantire.ca/en/lighting/pendant-lights.html?adlocation=LIT_Lighting_PendantLights_en?page=1.\n",
      "Browser closed.\n"
     ]
    },
    {
     "name": "stderr",
     "output_type": "stream",
     "text": [
      "\n",
      " 20%|██        | 1/5 [00:46<03:04, 46.22s/it]\u001b[A"
     ]
    },
    {
     "name": "stdout",
     "output_type": "stream",
     "text": [
      "Time elapsed: 46.2s\n",
      "Page fetched: https://www.canadiantire.ca/en/lighting/pendant-lights.html?adlocation=LIT_Lighting_PendantLights_en?page=2.\n",
      "Browser closed.\n"
     ]
    },
    {
     "name": "stderr",
     "output_type": "stream",
     "text": [
      "\n",
      " 40%|████      | 2/5 [01:35<02:24, 48.11s/it]\u001b[A"
     ]
    },
    {
     "name": "stdout",
     "output_type": "stream",
     "text": [
      "Time elapsed: 49.4s\n",
      "Page fetched: https://www.canadiantire.ca/en/lighting/pendant-lights.html?adlocation=LIT_Lighting_PendantLights_en?page=3.\n",
      "Browser closed.\n"
     ]
    },
    {
     "name": "stderr",
     "output_type": "stream",
     "text": [
      "\n",
      " 60%|██████    | 3/5 [02:21<01:34, 47.14s/it]\u001b[A"
     ]
    },
    {
     "name": "stdout",
     "output_type": "stream",
     "text": [
      "Time elapsed: 46.0s\n",
      "Page fetched: https://www.canadiantire.ca/en/lighting/pendant-lights.html?adlocation=LIT_Lighting_PendantLights_en?page=4.\n",
      "Browser closed.\n"
     ]
    },
    {
     "name": "stderr",
     "output_type": "stream",
     "text": [
      "\n",
      " 80%|████████  | 4/5 [03:06<00:46, 46.20s/it]\u001b[A"
     ]
    },
    {
     "name": "stdout",
     "output_type": "stream",
     "text": [
      "Time elapsed: 44.8s\n",
      "Page fetched: https://www.canadiantire.ca/en/lighting/pendant-lights.html?adlocation=LIT_Lighting_PendantLights_en?page=5.\n",
      "Browser closed.\n"
     ]
    },
    {
     "name": "stderr",
     "output_type": "stream",
     "text": [
      "\n",
      "100%|██████████| 5/5 [03:50<00:00, 46.01s/it]\u001b[A\n",
      " 35%|███▌      | 7/20 [28:53<51:22, 237.10s/it]\n",
      "  0%|          | 0/5 [00:00<?, ?it/s]\u001b[A"
     ]
    },
    {
     "name": "stdout",
     "output_type": "stream",
     "text": [
      "Time elapsed: 43.6s\n",
      "Fetching process for PENDANT LIGHTS finished!\n",
      "Creating dataframe.\n",
      "Dataframe for PENDANT LIGHTS created.\n",
      "\n",
      "\n",
      "\n",
      "\n",
      "7\n",
      "Start fetching process for FLUSH & SEMI-FLUSH MOUNT LIGHTS!\n",
      "Page fetched: https://www.canadiantire.ca/en/lighting/flush-semi-flush-mount-lights.html?adlocation=LIT_Lighting_FlushSemiFlushMountLights_en?page=1.\n",
      "Browser closed.\n"
     ]
    },
    {
     "name": "stderr",
     "output_type": "stream",
     "text": [
      "\n",
      " 20%|██        | 1/5 [00:47<03:09, 47.34s/it]\u001b[A"
     ]
    },
    {
     "name": "stdout",
     "output_type": "stream",
     "text": [
      "Time elapsed: 47.3s\n",
      "Page fetched: https://www.canadiantire.ca/en/lighting/flush-semi-flush-mount-lights.html?adlocation=LIT_Lighting_FlushSemiFlushMountLights_en?page=2.\n",
      "Browser closed.\n"
     ]
    },
    {
     "name": "stderr",
     "output_type": "stream",
     "text": [
      "\n",
      " 40%|████      | 2/5 [01:31<02:16, 45.61s/it]\u001b[A"
     ]
    },
    {
     "name": "stdout",
     "output_type": "stream",
     "text": [
      "Time elapsed: 44.4s\n",
      "Page fetched: https://www.canadiantire.ca/en/lighting/flush-semi-flush-mount-lights.html?adlocation=LIT_Lighting_FlushSemiFlushMountLights_en?page=3.\n",
      "Browser closed.\n"
     ]
    },
    {
     "name": "stderr",
     "output_type": "stream",
     "text": [
      "\n",
      " 60%|██████    | 3/5 [02:20<01:33, 46.88s/it]\u001b[A"
     ]
    },
    {
     "name": "stdout",
     "output_type": "stream",
     "text": [
      "Time elapsed: 48.4s\n",
      "Page fetched: https://www.canadiantire.ca/en/lighting/flush-semi-flush-mount-lights.html?adlocation=LIT_Lighting_FlushSemiFlushMountLights_en?page=4.\n",
      "Browser closed.\n"
     ]
    },
    {
     "name": "stderr",
     "output_type": "stream",
     "text": [
      "\n",
      " 80%|████████  | 4/5 [03:06<00:46, 46.62s/it]\u001b[A"
     ]
    },
    {
     "name": "stdout",
     "output_type": "stream",
     "text": [
      "Time elapsed: 46.2s\n",
      "Page fetched: https://www.canadiantire.ca/en/lighting/flush-semi-flush-mount-lights.html?adlocation=LIT_Lighting_FlushSemiFlushMountLights_en?page=5.\n",
      "Browser closed.\n"
     ]
    },
    {
     "name": "stderr",
     "output_type": "stream",
     "text": [
      "\n",
      "100%|██████████| 5/5 [03:55<00:00, 47.03s/it]\u001b[A\n",
      " 40%|████      | 8/20 [32:49<47:18, 236.54s/it]\n",
      "  0%|          | 0/5 [00:00<?, ?it/s]\u001b[A"
     ]
    },
    {
     "name": "stdout",
     "output_type": "stream",
     "text": [
      "Time elapsed: 48.8s\n",
      "Fetching process for FLUSH & SEMI-FLUSH MOUNT LIGHTS finished!\n",
      "Creating dataframe.\n",
      "Dataframe for FLUSH & SEMI-FLUSH MOUNT LIGHTS created.\n",
      "\n",
      "\n",
      "\n",
      "\n",
      "8\n",
      "Start fetching process for CEILING FANS & ACCESSORIES!\n",
      "Page fetched: https://www.canadiantire.ca/en/lighting/ceiling-fans-accessories.html?adlocation=LIT_Lighting_CeilingFansAccessories_en?page=1.\n",
      "Browser closed.\n"
     ]
    },
    {
     "name": "stderr",
     "output_type": "stream",
     "text": [
      "\n",
      " 20%|██        | 1/5 [00:48<03:12, 48.20s/it]\u001b[A"
     ]
    },
    {
     "name": "stdout",
     "output_type": "stream",
     "text": [
      "Time elapsed: 48.2s\n",
      "Page fetched: https://www.canadiantire.ca/en/lighting/ceiling-fans-accessories.html?adlocation=LIT_Lighting_CeilingFansAccessories_en?page=2.\n",
      "Browser closed.\n"
     ]
    },
    {
     "name": "stderr",
     "output_type": "stream",
     "text": [
      "\n",
      " 40%|████      | 2/5 [01:37<02:26, 48.95s/it]\u001b[A"
     ]
    },
    {
     "name": "stdout",
     "output_type": "stream",
     "text": [
      "Time elapsed: 49.5s\n",
      "Page fetched: https://www.canadiantire.ca/en/lighting/ceiling-fans-accessories.html?adlocation=LIT_Lighting_CeilingFansAccessories_en?page=3.\n",
      "Browser closed.\n"
     ]
    },
    {
     "name": "stderr",
     "output_type": "stream",
     "text": [
      "\n",
      " 60%|██████    | 3/5 [02:24<01:36, 48.04s/it]\u001b[A"
     ]
    },
    {
     "name": "stdout",
     "output_type": "stream",
     "text": [
      "Time elapsed: 47.0s\n",
      "Page fetched: https://www.canadiantire.ca/en/lighting/ceiling-fans-accessories.html?adlocation=LIT_Lighting_CeilingFansAccessories_en?page=4.\n",
      "Browser closed.\n"
     ]
    },
    {
     "name": "stderr",
     "output_type": "stream",
     "text": [
      "\n",
      " 80%|████████  | 4/5 [03:08<00:46, 46.32s/it]\u001b[A"
     ]
    },
    {
     "name": "stdout",
     "output_type": "stream",
     "text": [
      "Time elapsed: 43.7s\n",
      "Page fetched: https://www.canadiantire.ca/en/lighting/ceiling-fans-accessories.html?adlocation=LIT_Lighting_CeilingFansAccessories_en?page=5.\n",
      "Browser closed.\n"
     ]
    },
    {
     "name": "stderr",
     "output_type": "stream",
     "text": [
      "\n",
      "100%|██████████| 5/5 [03:54<00:00, 46.85s/it]\u001b[A\n",
      " 45%|████▌     | 9/20 [36:43<43:14, 235.87s/it]\n",
      "  0%|          | 0/5 [00:00<?, ?it/s]\u001b[A"
     ]
    },
    {
     "name": "stdout",
     "output_type": "stream",
     "text": [
      "Time elapsed: 45.9s\n",
      "Fetching process for CEILING FANS & ACCESSORIES finished!\n",
      "Creating dataframe.\n",
      "Dataframe for CEILING FANS & ACCESSORIES created.\n",
      "\n",
      "\n",
      "\n",
      "\n",
      "9\n",
      "Start fetching process for FLOOR LAMPS!\n",
      "Page fetched: https://www.canadiantire.ca/en/lighting/floor-lamps.html?adlocation=LIT_Lighting_FloorLamps_en?page=1.\n",
      "Browser closed.\n"
     ]
    },
    {
     "name": "stderr",
     "output_type": "stream",
     "text": [
      "\n",
      " 20%|██        | 1/5 [00:58<03:55, 58.88s/it]\u001b[A"
     ]
    },
    {
     "name": "stdout",
     "output_type": "stream",
     "text": [
      "Time elapsed: 58.9s\n",
      "Page fetched: https://www.canadiantire.ca/en/lighting/floor-lamps.html?adlocation=LIT_Lighting_FloorLamps_en?page=2.\n",
      "Browser closed.\n"
     ]
    },
    {
     "name": "stderr",
     "output_type": "stream",
     "text": [
      "\n",
      " 40%|████      | 2/5 [01:45<02:35, 51.91s/it]\u001b[A"
     ]
    },
    {
     "name": "stdout",
     "output_type": "stream",
     "text": [
      "Time elapsed: 47.0s\n",
      "Page fetched: https://www.canadiantire.ca/en/lighting/floor-lamps.html?adlocation=LIT_Lighting_FloorLamps_en?page=3.\n",
      "Browser closed.\n"
     ]
    },
    {
     "name": "stderr",
     "output_type": "stream",
     "text": [
      "\n",
      " 60%|██████    | 3/5 [02:44<01:49, 54.92s/it]\u001b[A"
     ]
    },
    {
     "name": "stdout",
     "output_type": "stream",
     "text": [
      "Time elapsed: 58.5s\n",
      "Page fetched: https://www.canadiantire.ca/en/lighting/floor-lamps.html?adlocation=LIT_Lighting_FloorLamps_en?page=4.\n",
      "Browser closed.\n"
     ]
    },
    {
     "name": "stderr",
     "output_type": "stream",
     "text": [
      "\n",
      " 80%|████████  | 4/5 [03:30<00:51, 51.61s/it]\u001b[A"
     ]
    },
    {
     "name": "stdout",
     "output_type": "stream",
     "text": [
      "Time elapsed: 46.5s\n",
      "Page fetched: https://www.canadiantire.ca/en/lighting/floor-lamps.html?adlocation=LIT_Lighting_FloorLamps_en?page=5.\n",
      "Browser closed.\n"
     ]
    },
    {
     "name": "stderr",
     "output_type": "stream",
     "text": [
      "\n",
      "100%|██████████| 5/5 [04:19<00:00, 51.98s/it]\u001b[A\n",
      " 50%|█████     | 10/20 [41:03<40:33, 243.32s/it]\n",
      "  0%|          | 0/5 [00:00<?, ?it/s]\u001b[A"
     ]
    },
    {
     "name": "stdout",
     "output_type": "stream",
     "text": [
      "Time elapsed: 48.9s\n",
      "Fetching process for FLOOR LAMPS finished!\n",
      "Creating dataframe.\n",
      "Dataframe for FLOOR LAMPS created.\n",
      "\n",
      "\n",
      "\n",
      "\n",
      "10\n",
      "Start fetching process for TABLE LAMPS!\n",
      "Page fetched: https://www.canadiantire.ca/en/lighting/table-lamps.html?adlocation=LIT_Lighting_TableLamps_en?page=1.\n",
      "Browser closed.\n"
     ]
    },
    {
     "name": "stderr",
     "output_type": "stream",
     "text": [
      "\n",
      " 20%|██        | 1/5 [00:46<03:07, 46.99s/it]\u001b[A"
     ]
    },
    {
     "name": "stdout",
     "output_type": "stream",
     "text": [
      "Time elapsed: 47.0s\n",
      "Page fetched: https://www.canadiantire.ca/en/lighting/table-lamps.html?adlocation=LIT_Lighting_TableLamps_en?page=2.\n",
      "Browser closed.\n"
     ]
    },
    {
     "name": "stderr",
     "output_type": "stream",
     "text": [
      "\n",
      " 40%|████      | 2/5 [01:33<02:20, 46.87s/it]\u001b[A"
     ]
    },
    {
     "name": "stdout",
     "output_type": "stream",
     "text": [
      "Time elapsed: 46.8s\n",
      "Page fetched: https://www.canadiantire.ca/en/lighting/table-lamps.html?adlocation=LIT_Lighting_TableLamps_en?page=3.\n",
      "Browser closed.\n"
     ]
    },
    {
     "name": "stderr",
     "output_type": "stream",
     "text": [
      "\n",
      " 60%|██████    | 3/5 [02:19<01:33, 46.52s/it]\u001b[A"
     ]
    },
    {
     "name": "stdout",
     "output_type": "stream",
     "text": [
      "Time elapsed: 46.1s\n",
      "Page fetched: https://www.canadiantire.ca/en/lighting/table-lamps.html?adlocation=LIT_Lighting_TableLamps_en?page=4.\n",
      "Browser closed.\n"
     ]
    },
    {
     "name": "stderr",
     "output_type": "stream",
     "text": [
      "\n",
      " 80%|████████  | 4/5 [03:05<00:46, 46.00s/it]\u001b[A"
     ]
    },
    {
     "name": "stdout",
     "output_type": "stream",
     "text": [
      "Time elapsed: 45.2s\n",
      "Page fetched: https://www.canadiantire.ca/en/lighting/table-lamps.html?adlocation=LIT_Lighting_TableLamps_en?page=5.\n",
      "Browser closed.\n"
     ]
    },
    {
     "name": "stderr",
     "output_type": "stream",
     "text": [
      "\n",
      "100%|██████████| 5/5 [04:04<00:00, 48.92s/it]\u001b[A\n",
      " 55%|█████▌    | 11/20 [45:08<36:33, 243.75s/it]\n",
      "  0%|          | 0/5 [00:00<?, ?it/s]\u001b[A"
     ]
    },
    {
     "name": "stdout",
     "output_type": "stream",
     "text": [
      "Time elapsed: 59.5s\n",
      "Fetching process for TABLE LAMPS finished!\n",
      "Creating dataframe.\n",
      "Dataframe for TABLE LAMPS created.\n",
      "\n",
      "\n",
      "\n",
      "\n",
      "11\n",
      "Start fetching process for DESK LAMPS & CLIP-ON LIGHTS!\n",
      "Page fetched: https://www.canadiantire.ca/en/lighting/desk-lamps.html?adlocation=LIT_Lighting_DeskLamps_en?page=1.\n",
      "Browser closed.\n"
     ]
    },
    {
     "name": "stderr",
     "output_type": "stream",
     "text": [
      "\n",
      " 20%|██        | 1/5 [00:53<03:35, 53.96s/it]\u001b[A"
     ]
    },
    {
     "name": "stdout",
     "output_type": "stream",
     "text": [
      "Time elapsed: 54.0s\n",
      "Page fetched: https://www.canadiantire.ca/en/lighting/desk-lamps.html?adlocation=LIT_Lighting_DeskLamps_en?page=2.\n",
      "Browser closed.\n"
     ]
    },
    {
     "name": "stderr",
     "output_type": "stream",
     "text": [
      "\n",
      " 40%|████      | 2/5 [01:41<02:29, 49.90s/it]\u001b[A"
     ]
    },
    {
     "name": "stdout",
     "output_type": "stream",
     "text": [
      "Time elapsed: 47.0s\n",
      "Page fetched: https://www.canadiantire.ca/en/lighting/desk-lamps.html?adlocation=LIT_Lighting_DeskLamps_en?page=3.\n",
      "Browser closed.\n"
     ]
    },
    {
     "name": "stderr",
     "output_type": "stream",
     "text": [
      "\n",
      " 60%|██████    | 3/5 [02:41<01:49, 54.58s/it]\u001b[A"
     ]
    },
    {
     "name": "stdout",
     "output_type": "stream",
     "text": [
      "Time elapsed: 60.1s\n",
      "Page fetched: https://www.canadiantire.ca/en/lighting/desk-lamps.html?adlocation=LIT_Lighting_DeskLamps_en?page=4.\n",
      "Browser closed.\n"
     ]
    },
    {
     "name": "stderr",
     "output_type": "stream",
     "text": [
      "\n",
      " 80%|████████  | 4/5 [03:28<00:51, 51.64s/it]\u001b[A"
     ]
    },
    {
     "name": "stdout",
     "output_type": "stream",
     "text": [
      "Time elapsed: 47.1s\n",
      "Page fetched: https://www.canadiantire.ca/en/lighting/desk-lamps.html?adlocation=LIT_Lighting_DeskLamps_en?page=5.\n",
      "Browser closed.\n"
     ]
    },
    {
     "name": "stderr",
     "output_type": "stream",
     "text": [
      "\n",
      "100%|██████████| 5/5 [04:17<00:00, 51.42s/it]\u001b[A\n",
      " 60%|██████    | 12/20 [49:25<33:02, 247.84s/it]\n",
      "  0%|          | 0/5 [00:00<?, ?it/s]\u001b[A"
     ]
    },
    {
     "name": "stdout",
     "output_type": "stream",
     "text": [
      "Time elapsed: 48.8s\n",
      "Fetching process for DESK LAMPS & CLIP-ON LIGHTS finished!\n",
      "Creating dataframe.\n",
      "Dataframe for DESK LAMPS & CLIP-ON LIGHTS created.\n",
      "\n",
      "\n",
      "\n",
      "\n",
      "12\n",
      "Start fetching process for BATHROOM LIGHTS & FIXTURES!\n",
      "Page fetched: https://www.canadiantire.ca/en/lighting/bathroom-lights.html?adlocation=LIT_Lighting_BathroomLights_en?page=1.\n",
      "Browser closed.\n"
     ]
    },
    {
     "name": "stderr",
     "output_type": "stream",
     "text": [
      "\n",
      " 20%|██        | 1/5 [00:47<03:09, 47.43s/it]\u001b[A"
     ]
    },
    {
     "name": "stdout",
     "output_type": "stream",
     "text": [
      "Time elapsed: 47.4s\n",
      "Page fetched: https://www.canadiantire.ca/en/lighting/bathroom-lights.html?adlocation=LIT_Lighting_BathroomLights_en?page=2.\n",
      "Browser closed.\n"
     ]
    },
    {
     "name": "stderr",
     "output_type": "stream",
     "text": [
      "\n",
      " 40%|████      | 2/5 [01:32<02:17, 45.86s/it]\u001b[A"
     ]
    },
    {
     "name": "stdout",
     "output_type": "stream",
     "text": [
      "Time elapsed: 44.8s\n",
      "Page fetched: https://www.canadiantire.ca/en/lighting/bathroom-lights.html?adlocation=LIT_Lighting_BathroomLights_en?page=3.\n",
      "Browser closed.\n"
     ]
    },
    {
     "name": "stderr",
     "output_type": "stream",
     "text": [
      "\n",
      " 60%|██████    | 3/5 [02:29<01:42, 51.03s/it]\u001b[A"
     ]
    },
    {
     "name": "stdout",
     "output_type": "stream",
     "text": [
      "Time elapsed: 57.2s\n",
      "Page fetched: https://www.canadiantire.ca/en/lighting/bathroom-lights.html?adlocation=LIT_Lighting_BathroomLights_en?page=4.\n",
      "Browser closed.\n"
     ]
    },
    {
     "name": "stderr",
     "output_type": "stream",
     "text": [
      "\n",
      " 80%|████████  | 4/5 [03:35<00:57, 57.08s/it]\u001b[A"
     ]
    },
    {
     "name": "stdout",
     "output_type": "stream",
     "text": [
      "Time elapsed: 66.4s\n",
      "Page fetched: https://www.canadiantire.ca/en/lighting/bathroom-lights.html?adlocation=LIT_Lighting_BathroomLights_en?page=5.\n",
      "Browser closed.\n"
     ]
    },
    {
     "name": "stderr",
     "output_type": "stream",
     "text": [
      "\n",
      "100%|██████████| 5/5 [04:22<00:00, 52.49s/it]\u001b[A\n",
      " 65%|██████▌   | 13/20 [53:48<29:26, 252.29s/it]\n",
      "  0%|          | 0/5 [00:00<?, ?it/s]\u001b[A"
     ]
    },
    {
     "name": "stdout",
     "output_type": "stream",
     "text": [
      "Time elapsed: 46.7s\n",
      "Fetching process for BATHROOM LIGHTS & FIXTURES finished!\n",
      "Creating dataframe.\n",
      "Dataframe for BATHROOM LIGHTS & FIXTURES created.\n",
      "\n",
      "\n",
      "\n",
      "\n",
      "13\n",
      "Start fetching process for AREA LIGHTS!\n",
      "Page fetched: https://www.canadiantire.ca/en/outdoor-living/outdoor-lighting/area-flood-lights/area-lights.html?adlocation=LIT_Category_Product_AreaLightsCat_en?page=1.\n",
      "Browser closed.\n"
     ]
    },
    {
     "name": "stderr",
     "output_type": "stream",
     "text": [
      "\n",
      " 20%|██        | 1/5 [00:58<03:53, 58.43s/it]\u001b[A"
     ]
    },
    {
     "name": "stdout",
     "output_type": "stream",
     "text": [
      "Time elapsed: 58.4s\n",
      "Page fetched: https://www.canadiantire.ca/en/outdoor-living/outdoor-lighting/area-flood-lights/area-lights.html?adlocation=LIT_Category_Product_AreaLightsCat_en?page=2.\n",
      "Browser closed.\n"
     ]
    },
    {
     "name": "stderr",
     "output_type": "stream",
     "text": [
      "\n",
      " 40%|████      | 2/5 [02:07<03:13, 64.40s/it]\u001b[A"
     ]
    },
    {
     "name": "stdout",
     "output_type": "stream",
     "text": [
      "Time elapsed: 68.6s\n",
      "Page fetched: https://www.canadiantire.ca/en/outdoor-living/outdoor-lighting/area-flood-lights/area-lights.html?adlocation=LIT_Category_Product_AreaLightsCat_en?page=3.\n",
      "Browser closed.\n"
     ]
    },
    {
     "name": "stderr",
     "output_type": "stream",
     "text": [
      "\n",
      " 60%|██████    | 3/5 [02:55<01:54, 57.26s/it]\u001b[A"
     ]
    },
    {
     "name": "stdout",
     "output_type": "stream",
     "text": [
      "Time elapsed: 48.8s\n",
      "Page fetched: https://www.canadiantire.ca/en/outdoor-living/outdoor-lighting/area-flood-lights/area-lights.html?adlocation=LIT_Category_Product_AreaLightsCat_en?page=4.\n",
      "Browser closed.\n"
     ]
    },
    {
     "name": "stderr",
     "output_type": "stream",
     "text": [
      "\n",
      " 80%|████████  | 4/5 [04:06<01:02, 62.55s/it]\u001b[A"
     ]
    },
    {
     "name": "stdout",
     "output_type": "stream",
     "text": [
      "Time elapsed: 70.7s\n",
      "Page fetched: https://www.canadiantire.ca/en/outdoor-living/outdoor-lighting/area-flood-lights/area-lights.html?adlocation=LIT_Category_Product_AreaLightsCat_en?page=5.\n",
      "Browser closed.\n"
     ]
    },
    {
     "name": "stderr",
     "output_type": "stream",
     "text": [
      "\n",
      "100%|██████████| 5/5 [04:52<00:00, 58.42s/it]\u001b[A\n",
      " 70%|███████   | 14/20 [58:40<26:26, 264.34s/it]\n",
      "  0%|          | 0/5 [00:00<?, ?it/s]\u001b[A"
     ]
    },
    {
     "name": "stdout",
     "output_type": "stream",
     "text": [
      "Time elapsed: 45.7s\n",
      "Fetching process for AREA LIGHTS finished!\n",
      "Creating dataframe.\n",
      "Dataframe for AREA LIGHTS created.\n",
      "\n",
      "\n",
      "\n",
      "\n",
      "14\n",
      "Start fetching process for OUTDOOR WALL & ENTRY LIGHTING!\n",
      "Page fetched: https://www.canadiantire.ca/en/outdoor-living/outdoor-lighting/wall-entry-lighting.html?adlocation=LIT_Lighting_WallEntryLights_en?page=1.\n",
      "Browser closed.\n"
     ]
    },
    {
     "name": "stderr",
     "output_type": "stream",
     "text": [
      "\n",
      " 20%|██        | 1/5 [00:44<02:56, 44.15s/it]\u001b[A"
     ]
    },
    {
     "name": "stdout",
     "output_type": "stream",
     "text": [
      "Time elapsed: 44.1s\n",
      "Page fetched: https://www.canadiantire.ca/en/outdoor-living/outdoor-lighting/wall-entry-lighting.html?adlocation=LIT_Lighting_WallEntryLights_en?page=2.\n",
      "Browser closed.\n"
     ]
    },
    {
     "name": "stderr",
     "output_type": "stream",
     "text": [
      "\n",
      " 40%|████      | 2/5 [01:31<02:17, 45.74s/it]\u001b[A"
     ]
    },
    {
     "name": "stdout",
     "output_type": "stream",
     "text": [
      "Time elapsed: 46.9s\n",
      "Page fetched: https://www.canadiantire.ca/en/outdoor-living/outdoor-lighting/wall-entry-lighting.html?adlocation=LIT_Lighting_WallEntryLights_en?page=3.\n",
      "Browser closed.\n"
     ]
    },
    {
     "name": "stderr",
     "output_type": "stream",
     "text": [
      "\n",
      " 60%|██████    | 3/5 [02:18<01:33, 46.64s/it]\u001b[A"
     ]
    },
    {
     "name": "stdout",
     "output_type": "stream",
     "text": [
      "Time elapsed: 47.7s\n",
      "Page fetched: https://www.canadiantire.ca/en/outdoor-living/outdoor-lighting/wall-entry-lighting.html?adlocation=LIT_Lighting_WallEntryLights_en?page=4.\n",
      "Browser closed.\n"
     ]
    },
    {
     "name": "stderr",
     "output_type": "stream",
     "text": [
      "\n",
      " 80%|████████  | 4/5 [03:03<00:45, 45.92s/it]\u001b[A"
     ]
    },
    {
     "name": "stdout",
     "output_type": "stream",
     "text": [
      "Time elapsed: 44.8s\n",
      "Page fetched: https://www.canadiantire.ca/en/outdoor-living/outdoor-lighting/wall-entry-lighting.html?adlocation=LIT_Lighting_WallEntryLights_en?page=5.\n",
      "Browser closed.\n"
     ]
    },
    {
     "name": "stderr",
     "output_type": "stream",
     "text": [
      "\n",
      "100%|██████████| 5/5 [03:52<00:00, 46.51s/it]\u001b[A\n",
      " 75%|███████▌  | 15/20 [1:02:32<21:13, 254.78s/it]\n",
      "  0%|          | 0/5 [00:00<?, ?it/s]\u001b[A"
     ]
    },
    {
     "name": "stdout",
     "output_type": "stream",
     "text": [
      "Time elapsed: 49.0s\n",
      "Fetching process for OUTDOOR WALL & ENTRY LIGHTING finished!\n",
      "Creating dataframe.\n",
      "Dataframe for OUTDOOR WALL & ENTRY LIGHTING created.\n",
      "\n",
      "\n",
      "\n",
      "\n",
      "15\n",
      "Start fetching process for LIGHT BULBS!\n",
      "Page fetched: https://www.canadiantire.ca/en/lighting/light-bulbs.html?adlocation=LIT_Lighting_LightBulbs_en?page=1.\n",
      "Browser closed.\n"
     ]
    },
    {
     "name": "stderr",
     "output_type": "stream",
     "text": [
      "\n",
      " 20%|██        | 1/5 [00:47<03:08, 47.23s/it]\u001b[A"
     ]
    },
    {
     "name": "stdout",
     "output_type": "stream",
     "text": [
      "Time elapsed: 47.2s\n",
      "Page fetched: https://www.canadiantire.ca/en/lighting/light-bulbs.html?adlocation=LIT_Lighting_LightBulbs_en?page=2.\n",
      "Browser closed.\n"
     ]
    },
    {
     "name": "stderr",
     "output_type": "stream",
     "text": [
      "\n",
      " 40%|████      | 2/5 [01:35<02:22, 47.55s/it]\u001b[A"
     ]
    },
    {
     "name": "stdout",
     "output_type": "stream",
     "text": [
      "Time elapsed: 47.8s\n",
      "Page fetched: https://www.canadiantire.ca/en/lighting/light-bulbs.html?adlocation=LIT_Lighting_LightBulbs_en?page=3.\n",
      "Browser closed.\n"
     ]
    },
    {
     "name": "stderr",
     "output_type": "stream",
     "text": [
      "\n",
      " 60%|██████    | 3/5 [02:21<01:33, 46.87s/it]\u001b[A"
     ]
    },
    {
     "name": "stdout",
     "output_type": "stream",
     "text": [
      "Time elapsed: 46.1s\n",
      "Page fetched: https://www.canadiantire.ca/en/lighting/light-bulbs.html?adlocation=LIT_Lighting_LightBulbs_en?page=4.\n",
      "Browser closed.\n"
     ]
    },
    {
     "name": "stderr",
     "output_type": "stream",
     "text": [
      "\n",
      " 80%|████████  | 4/5 [03:14<00:49, 49.65s/it]\u001b[A"
     ]
    },
    {
     "name": "stdout",
     "output_type": "stream",
     "text": [
      "Time elapsed: 53.9s\n",
      "Page fetched: https://www.canadiantire.ca/en/lighting/light-bulbs.html?adlocation=LIT_Lighting_LightBulbs_en?page=5.\n",
      "Browser closed.\n"
     ]
    },
    {
     "name": "stderr",
     "output_type": "stream",
     "text": [
      "\n",
      "100%|██████████| 5/5 [04:03<00:00, 48.62s/it]\u001b[A"
     ]
    },
    {
     "name": "stdout",
     "output_type": "stream",
     "text": [
      "Time elapsed: 48.1s\n",
      "Fetching process for LIGHT BULBS finished!\n",
      "Creating dataframe.\n"
     ]
    },
    {
     "name": "stderr",
     "output_type": "stream",
     "text": [
      "\n",
      " 80%|████████  | 16/20 [1:06:36<16:45, 251.42s/it]\n",
      "  0%|          | 0/5 [00:00<?, ?it/s]\u001b[A"
     ]
    },
    {
     "name": "stdout",
     "output_type": "stream",
     "text": [
      "Dataframe for LIGHT BULBS created.\n",
      "\n",
      "\n",
      "\n",
      "\n",
      "16\n",
      "Start fetching process for FLUORESCENT TUBE LIGHT BULBS!\n",
      "Page fetched: https://www.canadiantire.ca/en/lighting/light-bulbs/fluorescent-tube-light-bulbs.html?adlocation=LIT_Category_Product_TubeBulbsCat_en?page=1.\n",
      "Browser closed.\n"
     ]
    },
    {
     "name": "stderr",
     "output_type": "stream",
     "text": [
      "\n",
      " 20%|██        | 1/5 [00:47<03:08, 47.14s/it]\u001b[A"
     ]
    },
    {
     "name": "stdout",
     "output_type": "stream",
     "text": [
      "Time elapsed: 47.1s\n",
      "Page fetched: https://www.canadiantire.ca/en/lighting/light-bulbs/fluorescent-tube-light-bulbs.html?adlocation=LIT_Category_Product_TubeBulbsCat_en?page=2.\n",
      "Browser closed.\n"
     ]
    },
    {
     "name": "stderr",
     "output_type": "stream",
     "text": [
      "\n",
      " 40%|████      | 2/5 [01:42<02:35, 51.79s/it]\u001b[A"
     ]
    },
    {
     "name": "stdout",
     "output_type": "stream",
     "text": [
      "Time elapsed: 55.0s\n",
      "Page fetched: https://www.canadiantire.ca/en/lighting/light-bulbs/fluorescent-tube-light-bulbs.html?adlocation=LIT_Category_Product_TubeBulbsCat_en?page=3.\n",
      "Browser closed.\n"
     ]
    },
    {
     "name": "stderr",
     "output_type": "stream",
     "text": [
      "\n",
      " 60%|██████    | 3/5 [02:26<01:36, 48.50s/it]\u001b[A"
     ]
    },
    {
     "name": "stdout",
     "output_type": "stream",
     "text": [
      "Time elapsed: 44.6s\n",
      "Page fetched: https://www.canadiantire.ca/en/lighting/light-bulbs/fluorescent-tube-light-bulbs.html?adlocation=LIT_Category_Product_TubeBulbsCat_en?page=4.\n",
      "Browser closed.\n"
     ]
    },
    {
     "name": "stderr",
     "output_type": "stream",
     "text": [
      "\n",
      " 80%|████████  | 4/5 [03:12<00:47, 47.56s/it]\u001b[A"
     ]
    },
    {
     "name": "stdout",
     "output_type": "stream",
     "text": [
      "Time elapsed: 46.1s\n",
      "Page fetched: https://www.canadiantire.ca/en/lighting/light-bulbs/fluorescent-tube-light-bulbs.html?adlocation=LIT_Category_Product_TubeBulbsCat_en?page=5.\n",
      "Browser closed.\n"
     ]
    },
    {
     "name": "stderr",
     "output_type": "stream",
     "text": [
      "\n",
      "100%|██████████| 5/5 [03:59<00:00, 47.87s/it]\u001b[A\n",
      " 85%|████████▌ | 17/20 [1:10:36<12:23, 247.82s/it]\n",
      "  0%|          | 0/5 [00:00<?, ?it/s]\u001b[A"
     ]
    },
    {
     "name": "stdout",
     "output_type": "stream",
     "text": [
      "Time elapsed: 46.4s\n",
      "Fetching process for FLUORESCENT TUBE LIGHT BULBS finished!\n",
      "Creating dataframe.\n",
      "Dataframe for FLUORESCENT TUBE LIGHT BULBS created.\n",
      "\n",
      "\n",
      "\n",
      "\n",
      "17\n",
      "Start fetching process for DIMMERS, SWITCHES & TIMERS!\n",
      "Page fetched: https://www.canadiantire.ca/en/tools-hardware/electrical/dimmers-switches-timers.html?adlocation=LIT_Lighting_DimmersSwitchesTimers_en?page=1.\n",
      "Browser closed.\n"
     ]
    },
    {
     "name": "stderr",
     "output_type": "stream",
     "text": [
      "\n",
      " 20%|██        | 1/5 [00:48<03:15, 48.77s/it]\u001b[A"
     ]
    },
    {
     "name": "stdout",
     "output_type": "stream",
     "text": [
      "Time elapsed: 48.8s\n",
      "Page fetched: https://www.canadiantire.ca/en/tools-hardware/electrical/dimmers-switches-timers.html?adlocation=LIT_Lighting_DimmersSwitchesTimers_en?page=2.\n",
      "Browser closed.\n"
     ]
    },
    {
     "name": "stderr",
     "output_type": "stream",
     "text": [
      "\n",
      " 40%|████      | 2/5 [01:33<02:19, 46.60s/it]\u001b[A"
     ]
    },
    {
     "name": "stdout",
     "output_type": "stream",
     "text": [
      "Time elapsed: 45.1s\n",
      "Page fetched: https://www.canadiantire.ca/en/tools-hardware/electrical/dimmers-switches-timers.html?adlocation=LIT_Lighting_DimmersSwitchesTimers_en?page=3.\n",
      "Browser closed.\n"
     ]
    },
    {
     "name": "stderr",
     "output_type": "stream",
     "text": [
      "\n",
      " 60%|██████    | 3/5 [02:20<01:33, 46.51s/it]\u001b[A"
     ]
    },
    {
     "name": "stdout",
     "output_type": "stream",
     "text": [
      "Time elapsed: 46.4s\n",
      "Page fetched: https://www.canadiantire.ca/en/tools-hardware/electrical/dimmers-switches-timers.html?adlocation=LIT_Lighting_DimmersSwitchesTimers_en?page=4.\n",
      "Browser closed.\n"
     ]
    },
    {
     "name": "stderr",
     "output_type": "stream",
     "text": [
      "\n",
      " 80%|████████  | 4/5 [03:07<00:46, 46.97s/it]\u001b[A"
     ]
    },
    {
     "name": "stdout",
     "output_type": "stream",
     "text": [
      "Time elapsed: 47.7s\n",
      "Page fetched: https://www.canadiantire.ca/en/tools-hardware/electrical/dimmers-switches-timers.html?adlocation=LIT_Lighting_DimmersSwitchesTimers_en?page=5.\n",
      "Browser closed.\n"
     ]
    },
    {
     "name": "stderr",
     "output_type": "stream",
     "text": [
      "\n",
      "100%|██████████| 5/5 [03:57<00:00, 47.47s/it]\u001b[A\n",
      " 90%|█████████ | 18/20 [1:14:33<08:09, 244.74s/it]"
     ]
    },
    {
     "name": "stdout",
     "output_type": "stream",
     "text": [
      "Time elapsed: 49.4s\n",
      "Fetching process for DIMMERS, SWITCHES & TIMERS finished!\n",
      "Creating dataframe.\n",
      "Dataframe for DIMMERS, SWITCHES & TIMERS created.\n",
      "\n",
      "\n",
      "\n",
      "\n"
     ]
    },
    {
     "name": "stderr",
     "output_type": "stream",
     "text": [
      "\n",
      "  0%|          | 0/5 [00:00<?, ?it/s]\u001b[A"
     ]
    },
    {
     "name": "stdout",
     "output_type": "stream",
     "text": [
      "18\n",
      "Start fetching process for SWITCH & WALL PLATES!\n",
      "Page fetched: https://www.canadiantire.ca/en/lighting/lighting-hardware/switch-wall-plates.html?adlocation=LIT_Lighting_WallPlates_en?page=1.\n",
      "Browser closed.\n"
     ]
    },
    {
     "name": "stderr",
     "output_type": "stream",
     "text": [
      "\n",
      " 20%|██        | 1/5 [00:47<03:09, 47.30s/it]\u001b[A"
     ]
    },
    {
     "name": "stdout",
     "output_type": "stream",
     "text": [
      "Time elapsed: 47.3s\n",
      "Page fetched: https://www.canadiantire.ca/en/lighting/lighting-hardware/switch-wall-plates.html?adlocation=LIT_Lighting_WallPlates_en?page=2.\n",
      "Browser closed.\n"
     ]
    },
    {
     "name": "stderr",
     "output_type": "stream",
     "text": [
      "\n",
      " 40%|████      | 2/5 [01:34<02:21, 47.11s/it]\u001b[A"
     ]
    },
    {
     "name": "stdout",
     "output_type": "stream",
     "text": [
      "Time elapsed: 47.0s\n",
      "Page fetched: https://www.canadiantire.ca/en/lighting/lighting-hardware/switch-wall-plates.html?adlocation=LIT_Lighting_WallPlates_en?page=3.\n",
      "Browser closed.\n"
     ]
    },
    {
     "name": "stderr",
     "output_type": "stream",
     "text": [
      "\n",
      " 60%|██████    | 3/5 [02:24<01:37, 48.59s/it]\u001b[A"
     ]
    },
    {
     "name": "stdout",
     "output_type": "stream",
     "text": [
      "Time elapsed: 50.3s\n",
      "Page fetched: https://www.canadiantire.ca/en/lighting/lighting-hardware/switch-wall-plates.html?adlocation=LIT_Lighting_WallPlates_en?page=4.\n",
      "Browser closed.\n"
     ]
    },
    {
     "name": "stderr",
     "output_type": "stream",
     "text": [
      "\n",
      " 80%|████████  | 4/5 [03:12<00:48, 48.11s/it]\u001b[A"
     ]
    },
    {
     "name": "stdout",
     "output_type": "stream",
     "text": [
      "Time elapsed: 47.4s\n",
      "Page fetched: https://www.canadiantire.ca/en/lighting/lighting-hardware/switch-wall-plates.html?adlocation=LIT_Lighting_WallPlates_en?page=5.\n",
      "Browser closed.\n"
     ]
    },
    {
     "name": "stderr",
     "output_type": "stream",
     "text": [
      "\n",
      "100%|██████████| 5/5 [03:58<00:00, 47.72s/it]\u001b[A\n",
      " 95%|█████████▌| 19/20 [1:18:32<04:02, 242.96s/it]"
     ]
    },
    {
     "name": "stdout",
     "output_type": "stream",
     "text": [
      "Time elapsed: 46.6s\n",
      "Fetching process for SWITCH & WALL PLATES finished!\n",
      "Creating dataframe.\n",
      "Dataframe for SWITCH & WALL PLATES created.\n",
      "\n",
      "\n",
      "\n",
      "\n"
     ]
    },
    {
     "name": "stderr",
     "output_type": "stream",
     "text": [
      "\n",
      "  0%|          | 0/5 [00:00<?, ?it/s]\u001b[A"
     ]
    },
    {
     "name": "stdout",
     "output_type": "stream",
     "text": [
      "19\n",
      "Start fetching process for FLUORESCENT LIGHT FIXTURES!\n",
      "Page fetched: https://www.canadiantire.ca/en/lighting/fluorescent-light-fixtures.html?adlocation=LIT_Lighting_FlourescentLights_en?page=1.\n",
      "Browser closed.\n"
     ]
    },
    {
     "name": "stderr",
     "output_type": "stream",
     "text": [
      "\n",
      " 20%|██        | 1/5 [00:48<03:14, 48.66s/it]\u001b[A"
     ]
    },
    {
     "name": "stdout",
     "output_type": "stream",
     "text": [
      "Time elapsed: 48.7s\n",
      "Page fetched: https://www.canadiantire.ca/en/lighting/fluorescent-light-fixtures.html?adlocation=LIT_Lighting_FlourescentLights_en?page=2.\n",
      "Browser closed.\n"
     ]
    },
    {
     "name": "stderr",
     "output_type": "stream",
     "text": [
      "\n",
      " 40%|████      | 2/5 [02:02<03:11, 63.76s/it]\u001b[A"
     ]
    },
    {
     "name": "stdout",
     "output_type": "stream",
     "text": [
      "Time elapsed: 74.3s\n",
      "Page fetched: https://www.canadiantire.ca/en/lighting/fluorescent-light-fixtures.html?adlocation=LIT_Lighting_FlourescentLights_en?page=3.\n",
      "Browser closed.\n"
     ]
    },
    {
     "name": "stderr",
     "output_type": "stream",
     "text": [
      "\n",
      " 60%|██████    | 3/5 [02:48<01:50, 55.27s/it]\u001b[A"
     ]
    },
    {
     "name": "stdout",
     "output_type": "stream",
     "text": [
      "Time elapsed: 45.2s\n",
      "Page fetched: https://www.canadiantire.ca/en/lighting/fluorescent-light-fixtures.html?adlocation=LIT_Lighting_FlourescentLights_en?page=4.\n",
      "Browser closed.\n"
     ]
    },
    {
     "name": "stderr",
     "output_type": "stream",
     "text": [
      "\n",
      " 80%|████████  | 4/5 [03:36<00:52, 52.66s/it]\u001b[A"
     ]
    },
    {
     "name": "stdout",
     "output_type": "stream",
     "text": [
      "Time elapsed: 48.6s\n",
      "Page fetched: https://www.canadiantire.ca/en/lighting/fluorescent-light-fixtures.html?adlocation=LIT_Lighting_FlourescentLights_en?page=5.\n",
      "Browser closed.\n"
     ]
    },
    {
     "name": "stderr",
     "output_type": "stream",
     "text": [
      "\n",
      "100%|██████████| 5/5 [04:25<00:00, 53.04s/it]\u001b[A\n",
      "100%|██████████| 20/20 [1:22:57<00:00, 248.88s/it]"
     ]
    },
    {
     "name": "stdout",
     "output_type": "stream",
     "text": [
      "Time elapsed: 48.4s\n",
      "Fetching process for FLUORESCENT LIGHT FIXTURES finished!\n",
      "Creating dataframe.\n",
      "Dataframe for FLUORESCENT LIGHT FIXTURES created.\n",
      "\n",
      "\n",
      "\n",
      "\n",
      "Creating final dataset.\n",
      "Process finished. Printing final dataset.\n"
     ]
    },
    {
     "name": "stderr",
     "output_type": "stream",
     "text": [
      "\n"
     ]
    },
    {
     "data": {
      "text/html": [
       "<div>\n",
       "<style scoped>\n",
       "    .dataframe tbody tr th:only-of-type {\n",
       "        vertical-align: middle;\n",
       "    }\n",
       "\n",
       "    .dataframe tbody tr th {\n",
       "        vertical-align: top;\n",
       "    }\n",
       "\n",
       "    .dataframe thead th {\n",
       "        text-align: right;\n",
       "    }\n",
       "</style>\n",
       "<table border=\"1\" class=\"dataframe\">\n",
       "  <thead>\n",
       "    <tr style=\"text-align: right;\">\n",
       "      <th></th>\n",
       "      <th>original_name</th>\n",
       "      <th>image_link</th>\n",
       "      <th>class_name</th>\n",
       "      <th>product_name</th>\n",
       "    </tr>\n",
       "  </thead>\n",
       "  <tbody>\n",
       "    <tr>\n",
       "      <th>0</th>\n",
       "      <td>Anti-Fatigue Kitchen Mat, 20-in x 38-in</td>\n",
       "      <td>https://canadiantire.scene7.com/is/image/Canad...</td>\n",
       "      <td>AREA RUGS &amp; FLOORING</td>\n",
       "      <td>AREA RUGS &amp; FLOORING</td>\n",
       "    </tr>\n",
       "    <tr>\n",
       "      <th>1</th>\n",
       "      <td>Concord Mat with Bonus Platinum Mat</td>\n",
       "      <td>https://canadiantire.scene7.com/is/image/Canad...</td>\n",
       "      <td>AREA RUGS &amp; FLOORING</td>\n",
       "      <td>AREA RUGS &amp; FLOORING</td>\n",
       "    </tr>\n",
       "    <tr>\n",
       "      <th>2</th>\n",
       "      <td>Concord Mat, 22-in x 36-in</td>\n",
       "      <td>https://canadiantire.scene7.com/is/image/Canad...</td>\n",
       "      <td>AREA RUGS &amp; FLOORING</td>\n",
       "      <td>AREA RUGS &amp; FLOORING</td>\n",
       "    </tr>\n",
       "    <tr>\n",
       "      <th>3</th>\n",
       "      <td>Platinum Charcoal Mat</td>\n",
       "      <td>https://canadiantire.scene7.com/is/image/Canad...</td>\n",
       "      <td>AREA RUGS &amp; FLOORING</td>\n",
       "      <td>AREA RUGS &amp; FLOORING</td>\n",
       "    </tr>\n",
       "    <tr>\n",
       "      <th>4</th>\n",
       "      <td>Multy Home Blue Poppy Floor Mat</td>\n",
       "      <td>https://canadiantire.scene7.com/is/image/Canad...</td>\n",
       "      <td>AREA RUGS &amp; FLOORING</td>\n",
       "      <td>AREA RUGS &amp; FLOORING</td>\n",
       "    </tr>\n",
       "    <tr>\n",
       "      <th>...</th>\n",
       "      <td>...</td>\n",
       "      <td>...</td>\n",
       "      <td>...</td>\n",
       "      <td>...</td>\n",
       "    </tr>\n",
       "    <tr>\n",
       "      <th>946</th>\n",
       "      <td>Fluorescent Light Reflector with Cord, 48-in</td>\n",
       "      <td>https://canadiantire.scene7.com/is/image/Canad...</td>\n",
       "      <td>FLUORESCENT LIGHT FIXTURES</td>\n",
       "      <td>FLUORESCENT LIGHT FIXTURES</td>\n",
       "    </tr>\n",
       "    <tr>\n",
       "      <th>947</th>\n",
       "      <td>NOMA LED Shop Light with Motion Sensor, 4-ft</td>\n",
       "      <td>https://canadiantire.scene7.com/is/image/Canad...</td>\n",
       "      <td>FLUORESCENT LIGHT FIXTURES</td>\n",
       "      <td>FLUORESCENT LIGHT FIXTURES</td>\n",
       "    </tr>\n",
       "    <tr>\n",
       "      <th>948</th>\n",
       "      <td>NOMA Single LED Strip Light, 2-ft</td>\n",
       "      <td>https://canadiantire.scene7.com/is/image/Canad...</td>\n",
       "      <td>FLUORESCENT LIGHT FIXTURES</td>\n",
       "      <td>FLUORESCENT LIGHT FIXTURES</td>\n",
       "    </tr>\n",
       "    <tr>\n",
       "      <th>949</th>\n",
       "      <td>Canarm 59W Fluorescent Replacement Ballast, 96-in</td>\n",
       "      <td>https://canadiantire.scene7.com/is/image/Canad...</td>\n",
       "      <td>FLUORESCENT LIGHT FIXTURES</td>\n",
       "      <td>FLUORESCENT LIGHT FIXTURES</td>\n",
       "    </tr>\n",
       "    <tr>\n",
       "      <th>950</th>\n",
       "      <td>NOMA Single LED Strip Light, 4-ft</td>\n",
       "      <td>https://canadiantire.scene7.com/is/image/Canad...</td>\n",
       "      <td>FLUORESCENT LIGHT FIXTURES</td>\n",
       "      <td>FLUORESCENT LIGHT FIXTURES</td>\n",
       "    </tr>\n",
       "  </tbody>\n",
       "</table>\n",
       "<p>951 rows × 4 columns</p>\n",
       "</div>"
      ],
      "text/plain": [
       "                                         original_name  \\\n",
       "0              Anti-Fatigue Kitchen Mat, 20-in x 38-in   \n",
       "1                  Concord Mat with Bonus Platinum Mat   \n",
       "2                           Concord Mat, 22-in x 36-in   \n",
       "3                                Platinum Charcoal Mat   \n",
       "4                      Multy Home Blue Poppy Floor Mat   \n",
       "..                                                 ...   \n",
       "946       Fluorescent Light Reflector with Cord, 48-in   \n",
       "947       NOMA LED Shop Light with Motion Sensor, 4-ft   \n",
       "948                  NOMA Single LED Strip Light, 2-ft   \n",
       "949  Canarm 59W Fluorescent Replacement Ballast, 96-in   \n",
       "950                  NOMA Single LED Strip Light, 4-ft   \n",
       "\n",
       "                                            image_link  \\\n",
       "0    https://canadiantire.scene7.com/is/image/Canad...   \n",
       "1    https://canadiantire.scene7.com/is/image/Canad...   \n",
       "2    https://canadiantire.scene7.com/is/image/Canad...   \n",
       "3    https://canadiantire.scene7.com/is/image/Canad...   \n",
       "4    https://canadiantire.scene7.com/is/image/Canad...   \n",
       "..                                                 ...   \n",
       "946  https://canadiantire.scene7.com/is/image/Canad...   \n",
       "947  https://canadiantire.scene7.com/is/image/Canad...   \n",
       "948  https://canadiantire.scene7.com/is/image/Canad...   \n",
       "949  https://canadiantire.scene7.com/is/image/Canad...   \n",
       "950  https://canadiantire.scene7.com/is/image/Canad...   \n",
       "\n",
       "                     class_name                product_name  \n",
       "0          AREA RUGS & FLOORING        AREA RUGS & FLOORING  \n",
       "1          AREA RUGS & FLOORING        AREA RUGS & FLOORING  \n",
       "2          AREA RUGS & FLOORING        AREA RUGS & FLOORING  \n",
       "3          AREA RUGS & FLOORING        AREA RUGS & FLOORING  \n",
       "4          AREA RUGS & FLOORING        AREA RUGS & FLOORING  \n",
       "..                          ...                         ...  \n",
       "946  FLUORESCENT LIGHT FIXTURES  FLUORESCENT LIGHT FIXTURES  \n",
       "947  FLUORESCENT LIGHT FIXTURES  FLUORESCENT LIGHT FIXTURES  \n",
       "948  FLUORESCENT LIGHT FIXTURES  FLUORESCENT LIGHT FIXTURES  \n",
       "949  FLUORESCENT LIGHT FIXTURES  FLUORESCENT LIGHT FIXTURES  \n",
       "950  FLUORESCENT LIGHT FIXTURES  FLUORESCENT LIGHT FIXTURES  \n",
       "\n",
       "[951 rows x 4 columns]"
      ]
     },
     "execution_count": 37,
     "metadata": {},
     "output_type": "execute_result"
    }
   ],
   "source": [
    "from selenium.webdriver.firefox.options import Options\n",
    "options = Options()\n",
    "\n",
    "ua = UserAgent()\n",
    "\n",
    "import random\n",
    "randomlist = []\n",
    "for i in range(0,5):\n",
    "    n = random.randint(50, 120)\n",
    "    randomlist.append(n/10)\n",
    "\n",
    "df_list = []\n",
    "links_not_fetched = []\n",
    "for i in tq(range(0, len(df_category[:20]))):\n",
    "    print(i)\n",
    "    product_name = df_category['product_name'][i]\n",
    "    class_name = df_category['product_link_name'][i]\n",
    "    url = df_category['link'][i]+'?'\n",
    "    \n",
    "    print('Start fetching process for {}!'.format(class_name))\n",
    "    \n",
    "    if url[-3:] != '_no':\n",
    "        number_of_pages = 5 \n",
    "        url_list = [url + 'page={}'.format(i) for i in range(1, number_of_pages+1)]\n",
    "    else:\n",
    "        url_list = [url[:-3]]\n",
    "    \n",
    "    soup_list = []\n",
    "    count = 0\n",
    "    for page in tq(url_list):\n",
    "        start = time.time()\n",
    "        user_agent = ua.firefox\n",
    "        options.add_argument('--user-agent=\"{}\"'.format(user_agent))\n",
    "        browser = start_firefox(page, headless=True, options=options)\n",
    "        time.sleep(5)\n",
    "        press(ESCAPE)\n",
    "        time.sleep(8)\n",
    "        soup = BeautifulSoup(browser.page_source, 'html.parser')\n",
    "\n",
    "        checker = soup.find_all('div', {'class':'product-tile-srp__image-wrapper'})\n",
    "        if len(checker) > 0:\n",
    "            soup_list.append(soup)\n",
    "            print('Page fetched: {}.'.format(page))\n",
    "        elif (len(checker)==0) & (count < 2):\n",
    "            count += 1\n",
    "            print('Page not fetched: {}.'.format(page))\n",
    "        else:\n",
    "            print('Counter: ', count)\n",
    "            print('Page not fetched: {}.'.format(page))\n",
    "            links_not_fetched.append(page)\n",
    "            print(\"No more pages avaiable\")\n",
    "            kill_browser()\n",
    "            sleeping = random.choice(randomlist)\n",
    "            time.sleep(sleeping)  \n",
    "            end = time.time()\n",
    "            time_elapsed = round(end - start, 1)\n",
    "            print('Time elapsed: {}s'.format(time_elapsed))\n",
    "            print('\\n')\n",
    "            try:\n",
    "                kill_browser()\n",
    "                print('Browser closed.')\n",
    "            except:\n",
    "                print('There were no browser open.')\n",
    "                pass\n",
    "            break\n",
    "\n",
    "        try:\n",
    "            kill_browser()\n",
    "            print('Browser closed.')\n",
    "        except:\n",
    "            print('There were no browser open.')\n",
    "            pass\n",
    "\n",
    "        sleeping = random.choice(randomlist)\n",
    "        time.sleep(sleeping)  \n",
    "        end = time.time()\n",
    "        time_elapsed = round(end - start, 1)\n",
    "        print('Time elapsed: {}s'.format(time_elapsed))\n",
    "    print('Fetching process for {} finished!'.format(class_name))\n",
    "    print('Creating dataframe.')\n",
    "    \n",
    "    image_link_list = []\n",
    "    original_name_list = []\n",
    "\n",
    "    for soup in soup_list: \n",
    "        products_list = soup.find_all('div', {'class':'product-tile-srp__image-wrapper'})\n",
    "        for product in products_list:\n",
    "            image = product.find('img')\n",
    "            link = image['src']\n",
    "            link = update_link(link)\n",
    "            original_name = image['alt']\n",
    "            image_link_list.append(link)\n",
    "            original_name_list.append(original_name)\n",
    "\n",
    "    df_temp = pd.DataFrame({'original_name': original_name_list, 'image_link': image_link_list})\n",
    "    df_temp['class_name'] = class_name\n",
    "    df_temp['product_name'] = product_name\n",
    "    df_list.append(df_temp)\n",
    "    print('Dataframe for {} created.\\n\\n\\n\\n'.format(class_name))\n",
    "\n",
    "print('Creating final dataset.')\n",
    "df_final = pd.concat(df_list)\n",
    "df_final.drop_duplicates(subset='image_link', inplace=True)\n",
    "df_final.reset_index(inplace=True)\n",
    "del df_final['index']\n",
    "print('Process finished. Printing final dataset.')\n",
    "df_final"
   ]
  },
  {
   "cell_type": "code",
   "execution_count": 38,
   "id": "56e0c2d9",
   "metadata": {},
   "outputs": [],
   "source": [
    "df_final.to_csv('kitchen_dataset.csv', index=False)"
   ]
  },
  {
   "cell_type": "code",
   "execution_count": 47,
   "id": "06cf5d5c",
   "metadata": {},
   "outputs": [],
   "source": []
  },
  {
   "cell_type": "code",
   "execution_count": null,
   "id": "c8041cac",
   "metadata": {},
   "outputs": [],
   "source": []
  }
 ],
 "metadata": {
  "kernelspec": {
   "display_name": "Python 3",
   "language": "python",
   "name": "python3"
  },
  "language_info": {
   "codemirror_mode": {
    "name": "ipython",
    "version": 3
   },
   "file_extension": ".py",
   "mimetype": "text/x-python",
   "name": "python",
   "nbconvert_exporter": "python",
   "pygments_lexer": "ipython3",
   "version": "3.7.10"
  }
 },
 "nbformat": 4,
 "nbformat_minor": 5
}
